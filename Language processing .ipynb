{
 "cells": [
  {
   "cell_type": "code",
   "execution_count": 1,
   "metadata": {
    "colab": {
     "base_uri": "https://localhost:8080/",
     "height": 34
    },
    "colab_type": "code",
    "id": "pYVi36kfPKWw",
    "outputId": "ad413aea-a219-43d2-b889-146d0d4a71f7"
   },
   "outputs": [
    {
     "name": "stdout",
     "output_type": "stream",
     "text": [
      "Mounted at /content/MyDrive\n"
     ]
    }
   ],
   "source": [
    "from google.colab import drive\n",
    "drive.mount('/content/MyDrive')"
   ]
  },
  {
   "cell_type": "code",
   "execution_count": null,
   "metadata": {
    "colab": {
     "base_uri": "https://localhost:8080/",
     "height": 700
    },
    "colab_type": "code",
    "id": "FL8TQkiUMoTz",
    "outputId": "810c4569-e4c4-49dc-ca71-2178d38fe5df"
   },
   "outputs": [
    {
     "name": "stdout",
     "output_type": "stream",
     "text": [
      "Show System RAM Memory:\n",
      "\n",
      "\n",
      "MemTotal:       13333536 kB\n",
      "\n",
      "\n",
      "Show Devices:\n",
      "\n",
      "[name: \"/device:CPU:0\"\n",
      "device_type: \"CPU\"\n",
      "memory_limit: 268435456\n",
      "locality {\n",
      "}\n",
      "incarnation: 6687592829356387862\n",
      ", name: \"/device:XLA_CPU:0\"\n",
      "device_type: \"XLA_CPU\"\n",
      "memory_limit: 17179869184\n",
      "locality {\n",
      "}\n",
      "incarnation: 3649784965311715304\n",
      "physical_device_desc: \"device: XLA_CPU device\"\n",
      ", name: \"/device:XLA_GPU:0\"\n",
      "device_type: \"XLA_GPU\"\n",
      "memory_limit: 17179869184\n",
      "locality {\n",
      "}\n",
      "incarnation: 6605748535981921454\n",
      "physical_device_desc: \"device: XLA_GPU device\"\n",
      ", name: \"/device:GPU:0\"\n",
      "device_type: \"GPU\"\n",
      "memory_limit: 15695549568\n",
      "locality {\n",
      "  bus_id: 1\n",
      "  links {\n",
      "  }\n",
      "}\n",
      "incarnation: 11222024090912572363\n",
      "physical_device_desc: \"device: 0, name: Tesla P100-PCIE-16GB, pci bus id: 0000:00:04.0, compute capability: 6.0\"\n",
      "]\n"
     ]
    }
   ],
   "source": [
    "from tensorflow.python.client import device_lib \n",
    "print(\"Show System RAM Memory:\\n\\n\")\n",
    "!cat /proc/meminfo | egrep \"MemTotal*\"\n",
    "print(\"\\n\\nShow Devices:\\n\\n\"+str(device_lib.list_local_devices()))"
   ]
  },
  {
   "cell_type": "code",
   "execution_count": null,
   "metadata": {
    "colab": {},
    "colab_type": "code",
    "id": "ErI4qp6wKMKS"
   },
   "outputs": [],
   "source": [
    "import tensorflow as tf "
   ]
  },
  {
   "cell_type": "code",
   "execution_count": null,
   "metadata": {
    "colab": {
     "base_uri": "https://localhost:8080/",
     "height": 37
    },
    "colab_type": "code",
    "id": "Lbq_9KaGx_GU",
    "outputId": "55cc2d58-1aba-48ed-cf22-a2047ae5daa7"
   },
   "outputs": [
    {
     "data": {
      "application/vnd.google.colaboratory.intrinsic+json": {
       "type": "string"
      },
      "text/plain": [
       "'2.3.0'"
      ]
     },
     "execution_count": 3,
     "metadata": {
      "tags": []
     },
     "output_type": "execute_result"
    }
   ],
   "source": [
    "tf.__version__"
   ]
  },
  {
   "cell_type": "code",
   "execution_count": null,
   "metadata": {
    "colab": {
     "base_uri": "https://localhost:8080/",
     "height": 547
    },
    "colab_type": "code",
    "id": "K4M6UW1ufh8m",
    "outputId": "f32d962f-fd58-4fd2-9cab-b8a1524d5fb0"
   },
   "outputs": [
    {
     "name": "stdout",
     "output_type": "stream",
     "text": [
      "x_train shape: (60000, 28, 28, 1)\n",
      "60000 train samples\n",
      "10000 test samples\n",
      "Epoch 1/12\n",
      "375/375 [==============================] - 3s 8ms/step - loss: 0.2977 - accuracy: 0.9094 - val_loss: 0.0740 - val_accuracy: 0.9787\n",
      "Epoch 2/12\n",
      "375/375 [==============================] - 3s 8ms/step - loss: 0.0993 - accuracy: 0.9704 - val_loss: 0.0622 - val_accuracy: 0.9825\n",
      "Epoch 3/12\n",
      "375/375 [==============================] - 3s 8ms/step - loss: 0.0738 - accuracy: 0.9779 - val_loss: 0.0447 - val_accuracy: 0.9875\n",
      "Epoch 4/12\n",
      "375/375 [==============================] - 3s 8ms/step - loss: 0.0613 - accuracy: 0.9812 - val_loss: 0.0422 - val_accuracy: 0.9872\n",
      "Epoch 5/12\n",
      "375/375 [==============================] - 3s 8ms/step - loss: 0.0489 - accuracy: 0.9842 - val_loss: 0.0399 - val_accuracy: 0.9885\n",
      "Epoch 6/12\n",
      "375/375 [==============================] - 3s 8ms/step - loss: 0.0438 - accuracy: 0.9866 - val_loss: 0.0407 - val_accuracy: 0.9878\n",
      "Epoch 7/12\n",
      "375/375 [==============================] - 3s 8ms/step - loss: 0.0404 - accuracy: 0.9871 - val_loss: 0.0356 - val_accuracy: 0.9898\n",
      "Epoch 8/12\n",
      "375/375 [==============================] - 3s 8ms/step - loss: 0.0356 - accuracy: 0.9890 - val_loss: 0.0415 - val_accuracy: 0.9891\n",
      "Epoch 9/12\n",
      "375/375 [==============================] - 3s 8ms/step - loss: 0.0324 - accuracy: 0.9896 - val_loss: 0.0371 - val_accuracy: 0.9903\n",
      "Epoch 10/12\n",
      "375/375 [==============================] - 3s 8ms/step - loss: 0.0292 - accuracy: 0.9900 - val_loss: 0.0355 - val_accuracy: 0.9902\n",
      "Epoch 11/12\n",
      "375/375 [==============================] - 3s 8ms/step - loss: 0.0254 - accuracy: 0.9917 - val_loss: 0.0387 - val_accuracy: 0.9898\n",
      "Epoch 12/12\n",
      "375/375 [==============================] - 3s 8ms/step - loss: 0.0244 - accuracy: 0.9920 - val_loss: 0.0425 - val_accuracy: 0.9898\n",
      "Test loss: 0.031851671636104584\n",
      "Test accuracy: 0.9908999800682068\n",
      "36.80512809753418\n"
     ]
    }
   ],
   "source": [
    "import time\n",
    "start=time.time()\n",
    "%run /content/mnist_cnn.py\n",
    "end=time.time()\n",
    "print(end-start)"
   ]
  },
  {
   "cell_type": "markdown",
   "metadata": {
    "colab_type": "text",
    "id": "f7vF-sFIlsbx"
   },
   "source": [
    "Run time on GPU=36.8 seconds, run time on my computer=512.55 seconds (8 minutes and 32 seconds)"
   ]
  },
  {
   "cell_type": "markdown",
   "metadata": {
    "colab_type": "text",
    "id": "aOcKYeCjf29g"
   },
   "source": [
    "Step2. Implement handwritten recognition in Tensorflow using CNN"
   ]
  },
  {
   "cell_type": "code",
   "execution_count": 2,
   "metadata": {
    "colab": {
     "base_uri": "https://localhost:8080/",
     "height": 71
    },
    "colab_type": "code",
    "id": "Ao0toQI-f6RK",
    "outputId": "dd2ce4d2-1511-4051-cec1-ad4e2aab601d"
   },
   "outputs": [
    {
     "name": "stdout",
     "output_type": "stream",
     "text": [
      "Downloading data from https://storage.googleapis.com/tensorflow/tf-keras-datasets/mnist.npz\n",
      "11493376/11490434 [==============================] - 0s 0us/step\n"
     ]
    }
   ],
   "source": [
    "import keras\n",
    "from tensorflow.keras.datasets import  mnist\n",
    "from tensorflow.keras.models import Sequential\n",
    "from tensorflow.keras.layers import Dense, Dropout, Flatten \n",
    "from tensorflow.keras.layers import Conv2D, MaxPooling2D \n",
    "from tensorflow.keras import backend as K\n",
    "batch_size = 128 \n",
    "num_classes = 10 \n",
    "epochs = 12\n",
    "# input image dimensions\n",
    "img_rows, img_cols = 28, 28\n",
    "# the data, split between train and test sets\n",
    "(x_train, y_train), (x_test, y_test) = mnist.load_data()"
   ]
  },
  {
   "cell_type": "code",
   "execution_count": null,
   "metadata": {
    "colab": {
     "base_uri": "https://localhost:8080/",
     "height": 34
    },
    "colab_type": "code",
    "id": "K-1Lk0zXiSoP",
    "outputId": "d689aec2-0bca-4ed2-a69f-33d2dbac5aa0"
   },
   "outputs": [
    {
     "data": {
      "text/plain": [
       "((60000, 28, 28), (60000,), (10000,))"
      ]
     },
     "execution_count": 2,
     "metadata": {
      "tags": []
     },
     "output_type": "execute_result"
    }
   ],
   "source": [
    "x_train.shape,y_train.shape,y_test.shape"
   ]
  },
  {
   "cell_type": "code",
   "execution_count": null,
   "metadata": {
    "colab": {},
    "colab_type": "code",
    "id": "94TxItfYf1Y_"
   },
   "outputs": [],
   "source": [
    "if K.image_data_format() == 'channels_first':\n",
    "  x_train = x_train.reshape(x_train.shape[0], 1, img_rows, img_cols) \n",
    "  x_test = x_test.reshape(x_test.shape[0], 1, img_rows, img_cols) \n",
    "  input_shape = (1, img_rows, img_cols)\n",
    "else:\n",
    "  x_train = x_train.reshape(x_train.shape[0], img_rows, img_cols, 1)\n",
    "  x_test = x_test.reshape(x_test.shape[0], img_rows, img_cols, 1) \n",
    "  input_shape = (img_rows, img_cols, 1)"
   ]
  },
  {
   "cell_type": "code",
   "execution_count": null,
   "metadata": {
    "colab": {
     "base_uri": "https://localhost:8080/",
     "height": 68
    },
    "colab_type": "code",
    "id": "W8C4vQaPjXKa",
    "outputId": "4d66786b-ac54-45cd-be0c-aa70737e3f13"
   },
   "outputs": [
    {
     "name": "stdout",
     "output_type": "stream",
     "text": [
      "x_train shape: (60000, 28, 28, 1)\n",
      "60000 train samples\n",
      "10000 test samples\n"
     ]
    }
   ],
   "source": [
    "x_train = x_train.astype('float32')\n",
    "x_test = x_test.astype('float32') \n",
    "x_train /= 255\n",
    "x_test /= 255\n",
    "print('x_train shape:', x_train.shape)\n",
    "print(x_train.shape[0], 'train samples')\n",
    "print(x_test.shape[0], 'test samples')\n",
    "# convert class vectors to binary class matrices\n",
    "y_train = keras.utils.to_categorical(y_train, num_classes) \n",
    "y_test = keras.utils.to_categorical(y_test, num_classes)"
   ]
  },
  {
   "cell_type": "markdown",
   "metadata": {
    "colab_type": "text",
    "id": "7eiFVktHj2tl"
   },
   "source": [
    "**Q2 **\n",
    "Designing the model: The following model is made of three part (layers)-\n",
    "**First** the \"convolution layers\" which is the feature extraction by applying some *filters* to the input neurons to generate numbers out of the images, a language that the machine understand. Also,an activation function is applied to the convolution layers in order to remove elements which are jusfied as negative. \n",
    "**The second**  part of the code is the \"pooling layers\" (max or average) which is reducing the size or features of the network known as *downsampling* by retaining the most important ones, reducing calcution and the parameters of the model. \n",
    "**The third** part of the model is the \"fully connected layers\" which is the classifier by implementing the multi-layer perceptron with \"*softmax*\" function to classify the output."
   ]
  },
  {
   "cell_type": "code",
   "execution_count": null,
   "metadata": {
    "colab": {},
    "colab_type": "code",
    "id": "HDCfY1UVj19y"
   },
   "outputs": [],
   "source": [
    "model = Sequential()\n",
    "model.add(Conv2D(32, kernel_size=(3, 3), activation='relu', input_shape=input_shape))\n",
    "model.add(Conv2D(64, (3, 3), activation='relu')) \n",
    "model.add(MaxPooling2D(pool_size=(2, 2))) \n",
    "model.add(Dropout(0.25))\n",
    "model.add(Flatten())\n",
    "model.add(Dense(128, activation='relu'))\n",
    "model.add(Dropout(0.5))\n",
    "model.add(Dense(num_classes,activation='softmax'))"
   ]
  },
  {
   "cell_type": "code",
   "execution_count": null,
   "metadata": {
    "colab": {
     "base_uri": "https://localhost:8080/",
     "height": 496
    },
    "colab_type": "code",
    "id": "S7Rv-ALyqMS6",
    "outputId": "279d6d43-ae15-4afd-e8a5-a325c3ff7d15"
   },
   "outputs": [
    {
     "name": "stdout",
     "output_type": "stream",
     "text": [
      "Epoch 1/12\n",
      "  1/375 [..............................] - ETA: 0s - loss: 2.3153 - accuracy: 0.0859WARNING:tensorflow:Callbacks method `on_train_batch_end` is slow compared to the batch time (batch time: 0.0043s vs `on_train_batch_end` time: 0.0068s). Check your callbacks.\n",
      "375/375 [==============================] - 3s 8ms/step - loss: 0.2658 - accuracy: 0.9176 - val_loss: 0.0615 - val_accuracy: 0.9829\n",
      "Epoch 2/12\n",
      "375/375 [==============================] - 3s 8ms/step - loss: 0.0929 - accuracy: 0.9727 - val_loss: 0.0496 - val_accuracy: 0.9859\n",
      "Epoch 3/12\n",
      "375/375 [==============================] - 3s 8ms/step - loss: 0.0696 - accuracy: 0.9796 - val_loss: 0.0420 - val_accuracy: 0.9876\n",
      "Epoch 4/12\n",
      "375/375 [==============================] - 3s 8ms/step - loss: 0.0576 - accuracy: 0.9826 - val_loss: 0.0382 - val_accuracy: 0.9885\n",
      "Epoch 5/12\n",
      "375/375 [==============================] - 3s 8ms/step - loss: 0.0491 - accuracy: 0.9843 - val_loss: 0.0435 - val_accuracy: 0.9884\n",
      "Epoch 6/12\n",
      "375/375 [==============================] - 3s 8ms/step - loss: 0.0421 - accuracy: 0.9861 - val_loss: 0.0374 - val_accuracy: 0.9891\n",
      "Epoch 7/12\n",
      "375/375 [==============================] - 3s 8ms/step - loss: 0.0357 - accuracy: 0.9884 - val_loss: 0.0407 - val_accuracy: 0.9886\n",
      "Epoch 8/12\n",
      "375/375 [==============================] - 3s 8ms/step - loss: 0.0322 - accuracy: 0.9894 - val_loss: 0.0412 - val_accuracy: 0.9892\n",
      "Epoch 9/12\n",
      "375/375 [==============================] - 3s 8ms/step - loss: 0.0304 - accuracy: 0.9903 - val_loss: 0.0410 - val_accuracy: 0.9896\n",
      "Epoch 10/12\n",
      "375/375 [==============================] - 3s 8ms/step - loss: 0.0290 - accuracy: 0.9909 - val_loss: 0.0361 - val_accuracy: 0.9903\n",
      "Epoch 11/12\n",
      "375/375 [==============================] - 3s 8ms/step - loss: 0.0260 - accuracy: 0.9914 - val_loss: 0.0385 - val_accuracy: 0.9907\n",
      "Epoch 12/12\n",
      "375/375 [==============================] - 3s 8ms/step - loss: 0.0234 - accuracy: 0.9921 - val_loss: 0.0353 - val_accuracy: 0.9908\n",
      "Test loss: 0.03077867068350315\n",
      "Test accuracy: 0.9911999702453613\n"
     ]
    }
   ],
   "source": [
    "model.compile(loss='categorical_crossentropy',\n",
    "              optimizer='adam',\n",
    "              metrics=['accuracy'])\n",
    "\t\t\t  \n",
    "cnn_model=model.fit(x_train, y_train,\n",
    "          batch_size=batch_size,\n",
    "          epochs=epochs,\n",
    "          verbose=1,\n",
    "          validation_split=0.2)\n",
    "\t\t  \n",
    "score = model.evaluate(x_test, y_test, verbose=0)\n",
    "print('Test loss:', score[0])\n",
    "print('Test accuracy:', score[1])"
   ]
  },
  {
   "cell_type": "markdown",
   "metadata": {
    "colab_type": "text",
    "id": "xAjlItrMqUiD"
   },
   "source": [
    "The acccuracy of 99.21% is pretty good, i'd say it's the ideal accuracy a data scientist should be looking for. In the meantime it's questionable.\n",
    "Let's look into the learning curve to figure out how accurate reliable this result is. "
   ]
  },
  {
   "cell_type": "markdown",
   "metadata": {
    "colab_type": "text",
    "id": "VwCtOR9kH0_M"
   },
   "source": []
  },
  {
   "cell_type": "markdown",
   "metadata": {
    "colab_type": "text",
    "id": "lROTwlmsIuLp"
   },
   "source": [
    "  **Q3**: Plotting the learning curve"
   ]
  },
  {
   "cell_type": "markdown",
   "metadata": {
    "colab_type": "text",
    "id": "jEl36RC9KONZ"
   },
   "source": []
  },
  {
   "cell_type": "code",
   "execution_count": null,
   "metadata": {
    "colab": {
     "base_uri": "https://localhost:8080/",
     "height": 716
    },
    "colab_type": "code",
    "id": "K0kbrGDGqzD3",
    "outputId": "a15cfcc9-2e3c-4044-8860-e68b10420432"
   },
   "outputs": [
    {
     "name": "stderr",
     "output_type": "stream",
     "text": [
      "/usr/local/lib/python3.6/dist-packages/ipykernel_launcher.py:8: MatplotlibDeprecationWarning: Unrecognized location 'lower write'. Falling back on 'best'; valid locations are\n",
      "\tbest\n",
      "\tupper right\n",
      "\tupper left\n",
      "\tlower left\n",
      "\tlower right\n",
      "\tright\n",
      "\tcenter left\n",
      "\tcenter right\n",
      "\tlower center\n",
      "\tupper center\n",
      "\tcenter\n",
      "This will raise an exception in 3.3.\n",
      "  \n"
     ]
    },
    {
     "data": {
      "image/png": "[encoded data removed]",
      "text/plain": [
       "<Figure size 720x504 with 2 Axes>"
      ]
     },
     "metadata": {
      "needs_background": "light",
      "tags": []
     },
     "output_type": "display_data"
    }
   ],
   "source": [
    "import matplotlib.pyplot as plt\n",
    "plt.figure(figsize=(10,7))\n",
    "plt.subplot(2,1,1)\n",
    "plt.plot(cnn_model.history['accuracy'])\n",
    "plt.plot(cnn_model.history['val_accuracy'])\n",
    "plt.xlabel('epochs')\n",
    "plt.ylabel('accuracy')\n",
    "plt.legend(['train','validation'], loc='lower write')\n",
    "plt.title('model accuracy')\n",
    "\n",
    "plt.subplot(2,1,2)\n",
    "plt.plot(cnn_model.history['loss'])\n",
    "plt.plot(cnn_model.history['val_loss'])\n",
    "plt.title('model loss')\n",
    "plt.ylabel('loss')\n",
    "plt.xlabel('epoch')\n",
    "plt.legend(['train', 'validation'], loc='upper right')\n",
    "\n",
    "plt.show()\n",
    "\n"
   ]
  },
  {
   "cell_type": "markdown",
   "metadata": {
    "colab_type": "text",
    "id": "wa2i1MZoDP56"
   },
   "source": [
    "The learning curve above shows some signs of overfitting."
   ]
  },
  {
   "cell_type": "markdown",
   "metadata": {
    "colab_type": "text",
    "id": "ixNLfcy_5aVj"
   },
   "source": [
    "**Model improvement**\n",
    "let's improve our previous model by adding the \"kernel_initializer\" and increasing the dropout rate from the hidden layer to the output layer from .5 to .6"
   ]
  },
  {
   "cell_type": "code",
   "execution_count": null,
   "metadata": {
    "colab": {},
    "colab_type": "code",
    "id": "akfaIcNFq7xx"
   },
   "outputs": [],
   "source": [
    "model = Sequential()\n",
    "model.add(Conv2D(32, kernel_size=(3, 3),kernel_initializer='normal', activation='relu', input_shape=input_shape))\n",
    "model.add(Conv2D(64, (3, 3),kernel_initializer='normal', activation='relu')) \n",
    "model.add(MaxPooling2D(pool_size=(2, 2))) \n",
    "model.add(Dropout(0.25))\n",
    "model.add(Flatten())\n",
    "model.add(Dense(128,kernel_initializer='normal', activation='relu'))\n",
    "model.add(Dropout(0.6))\n",
    "model.add(Dense(num_classes,kernel_initializer='normal', activation='softmax'))"
   ]
  },
  {
   "cell_type": "code",
   "execution_count": null,
   "metadata": {
    "colab": {
     "base_uri": "https://localhost:8080/",
     "height": 479
    },
    "colab_type": "code",
    "id": "XJcDxc3Rq7tP",
    "outputId": "cc8cf854-8585-4108-e38b-fa379e6c3aa1"
   },
   "outputs": [
    {
     "name": "stdout",
     "output_type": "stream",
     "text": [
      "Epoch 1/12\n",
      "375/375 [==============================] - 3s 8ms/step - loss: 0.3909 - accuracy: 0.8773 - val_loss: 0.0830 - val_accuracy: 0.9752\n",
      "Epoch 2/12\n",
      "375/375 [==============================] - 3s 8ms/step - loss: 0.1396 - accuracy: 0.9587 - val_loss: 0.0597 - val_accuracy: 0.9824\n",
      "Epoch 3/12\n",
      "375/375 [==============================] - 3s 8ms/step - loss: 0.1022 - accuracy: 0.9688 - val_loss: 0.0532 - val_accuracy: 0.9846\n",
      "Epoch 4/12\n",
      "375/375 [==============================] - 3s 8ms/step - loss: 0.0867 - accuracy: 0.9739 - val_loss: 0.0460 - val_accuracy: 0.9878\n",
      "Epoch 5/12\n",
      "375/375 [==============================] - 3s 8ms/step - loss: 0.0726 - accuracy: 0.9780 - val_loss: 0.0454 - val_accuracy: 0.9863\n",
      "Epoch 6/12\n",
      "375/375 [==============================] - 3s 8ms/step - loss: 0.0640 - accuracy: 0.9805 - val_loss: 0.0426 - val_accuracy: 0.9883\n",
      "Epoch 7/12\n",
      "375/375 [==============================] - 3s 8ms/step - loss: 0.0595 - accuracy: 0.9816 - val_loss: 0.0430 - val_accuracy: 0.9880\n",
      "Epoch 8/12\n",
      "375/375 [==============================] - 3s 8ms/step - loss: 0.0527 - accuracy: 0.9836 - val_loss: 0.0383 - val_accuracy: 0.9893\n",
      "Epoch 9/12\n",
      "375/375 [==============================] - 3s 8ms/step - loss: 0.0497 - accuracy: 0.9845 - val_loss: 0.0391 - val_accuracy: 0.9893\n",
      "Epoch 10/12\n",
      "375/375 [==============================] - 3s 8ms/step - loss: 0.0448 - accuracy: 0.9854 - val_loss: 0.0375 - val_accuracy: 0.9888\n",
      "Epoch 11/12\n",
      "375/375 [==============================] - 3s 8ms/step - loss: 0.0393 - accuracy: 0.9870 - val_loss: 0.0389 - val_accuracy: 0.9902\n",
      "Epoch 12/12\n",
      "375/375 [==============================] - 3s 8ms/step - loss: 0.0378 - accuracy: 0.9880 - val_loss: 0.0392 - val_accuracy: 0.9891\n",
      "Test loss: 0.032305702567100525\n",
      "Test accuracy: 0.9896000027656555\n"
     ]
    }
   ],
   "source": [
    "model.compile(loss='categorical_crossentropy',\n",
    "              optimizer='adam',\n",
    "              metrics=['accuracy'])\n",
    "\t\t\t  \n",
    "cnn_model=model.fit(x_train, y_train,\n",
    "          batch_size=batch_size,\n",
    "          epochs=epochs,\n",
    "          verbose=1,\n",
    "          validation_split=0.2)\n",
    "\t\t  \n",
    "score = model.evaluate(x_test, y_test, verbose=0)\n",
    "print('Test loss:', score[0])\n",
    "print('Test accuracy:', score[1])"
   ]
  },
  {
   "cell_type": "markdown",
   "metadata": {
    "colab_type": "text",
    "id": "ep_0mKdDmrS4"
   },
   "source": []
  },
  {
   "cell_type": "code",
   "execution_count": null,
   "metadata": {
    "colab": {
     "base_uri": "https://localhost:8080/",
     "height": 716
    },
    "colab_type": "code",
    "id": "umHXR2WkmEFw",
    "outputId": "a765ff7d-aa44-42cf-c862-2cee05b2c373"
   },
   "outputs": [
    {
     "name": "stderr",
     "output_type": "stream",
     "text": [
      "/usr/local/lib/python3.6/dist-packages/ipykernel_launcher.py:8: MatplotlibDeprecationWarning: Unrecognized location 'lower write'. Falling back on 'best'; valid locations are\n",
      "\tbest\n",
      "\tupper right\n",
      "\tupper left\n",
      "\tlower left\n",
      "\tlower right\n",
      "\tright\n",
      "\tcenter left\n",
      "\tcenter right\n",
      "\tlower center\n",
      "\tupper center\n",
      "\tcenter\n",
      "This will raise an exception in 3.3.\n",
      "  \n"
     ]
    },
    {
     "data": {
      "image/png": "[encoded data removed]",
      "text/plain": [
       "<Figure size 720x504 with 2 Axes>"
      ]
     },
     "metadata": {
      "needs_background": "light",
      "tags": []
     },
     "output_type": "display_data"
    }
   ],
   "source": [
    "import matplotlib.pyplot as plt\n",
    "plt.figure(figsize=(10,7))\n",
    "plt.subplot(2,1,1)\n",
    "plt.plot(cnn_model.history['accuracy'])\n",
    "plt.plot(cnn_model.history['val_accuracy'])\n",
    "plt.xlabel('epochs')\n",
    "plt.ylabel('accuracy')\n",
    "plt.legend(['train','validation'], loc='lower write')\n",
    "plt.title('model accuracy')\n",
    "\n",
    "plt.subplot(2,1,2)\n",
    "plt.plot(cnn_model.history['loss'])\n",
    "plt.plot(cnn_model.history['val_loss'])\n",
    "plt.title('model loss')\n",
    "plt.ylabel('loss')\n",
    "plt.xlabel('epoch')\n",
    "plt.legend(['train', 'validation'], loc='upper right')\n",
    "\n",
    "plt.show()"
   ]
  },
  {
   "cell_type": "markdown",
   "metadata": {
    "colab_type": "text",
    "id": "viZKnUB9yVPS"
   },
   "source": []
  },
  {
   "cell_type": "markdown",
   "metadata": {
    "colab_type": "text",
    "id": "yOLnmT_nKIR1"
   },
   "source": [
    "**Step** **3** Text mining using CNN"
   ]
  },
  {
   "cell_type": "code",
   "execution_count": 196,
   "metadata": {
    "colab": {},
    "colab_type": "code",
    "id": "eFJPOHaoKTx_"
   },
   "outputs": [],
   "source": [
    "import pandas as pd\n",
    "df=pd.read_csv('/content/amazon_cells_labelled.txt',names=['sentence','label'],sep='\\t')"
   ]
  },
  {
   "cell_type": "code",
   "execution_count": 197,
   "metadata": {
    "colab": {
     "base_uri": "https://localhost:8080/",
     "height": 275
    },
    "colab_type": "code",
    "id": "tmKUorzgRAwg",
    "outputId": "7cc327e8-dcfd-4096-f2d1-a30e9d4b8a5f"
   },
   "outputs": [
    {
     "data": {
      "text/plain": [
       "<bound method DataFrame.info of                                               sentence  label\n",
       "0    So there is no way for me to plug it in here i...      0\n",
       "1                          Good case, Excellent value.      1\n",
       "2                               Great for the jawbone.      1\n",
       "3    Tied to charger for conversations lasting more...      0\n",
       "4                                    The mic is great.      1\n",
       "..                                                 ...    ...\n",
       "995  The screen does get smudged easily because it ...      0\n",
       "996  What a piece of junk.. I lose more calls on th...      0\n",
       "997                       Item Does Not Match Picture.      0\n",
       "998  The only thing that disappoint me is the infra...      0\n",
       "999  You can not answer calls with the unit, never ...      0\n",
       "\n",
       "[1000 rows x 2 columns]>"
      ]
     },
     "execution_count": 197,
     "metadata": {
      "tags": []
     },
     "output_type": "execute_result"
    }
   ],
   "source": [
    "df.info"
   ]
  },
  {
   "cell_type": "code",
   "execution_count": 4,
   "metadata": {
    "colab": {
     "base_uri": "https://localhost:8080/",
     "height": 71
    },
    "colab_type": "code",
    "id": "ioH8-TOfRQJm",
    "outputId": "67198e54-3187-4681-d586-f4c36fa05d9a"
   },
   "outputs": [
    {
     "data": {
      "text/plain": [
       "('So there is no way for me to plug it in here in the US unless I go by a converter.',\n",
       " 0)"
      ]
     },
     "execution_count": 4,
     "metadata": {
      "tags": []
     },
     "output_type": "execute_result"
    }
   ],
   "source": [
    "df.sentence[0],df.label[0]"
   ]
  },
  {
   "cell_type": "code",
   "execution_count": 5,
   "metadata": {
    "colab": {
     "base_uri": "https://localhost:8080/",
     "height": 37
    },
    "colab_type": "code",
    "id": "lpSMqijSRUiW",
    "outputId": "85140e7a-667b-4084-825b-9368ca7bdf6e"
   },
   "outputs": [
    {
     "data": {
      "application/vnd.google.colaboratory.intrinsic+json": {
       "type": "string"
      },
      "text/plain": [
       "'I have to jiggle the plug to get it to line up right to get decent volume.'"
      ]
     },
     "execution_count": 5,
     "metadata": {
      "tags": []
     },
     "output_type": "execute_result"
    }
   ],
   "source": [
    "df.sentence[5]"
   ]
  },
  {
   "cell_type": "code",
   "execution_count": 6,
   "metadata": {
    "colab": {
     "base_uri": "https://localhost:8080/",
     "height": 68
    },
    "colab_type": "code",
    "id": "L5rg_GnA8I_K",
    "outputId": "57423489-cc2a-4c55-b6f6-2440d514fc60"
   },
   "outputs": [
    {
     "data": {
      "text/plain": [
       "sentence    So there is no way for me to plug it in here i...\n",
       "label                                                       0\n",
       "Name: 0, dtype: object"
      ]
     },
     "execution_count": 6,
     "metadata": {
      "tags": []
     },
     "output_type": "execute_result"
    }
   ],
   "source": [
    "df.iloc[0]"
   ]
  },
  {
   "cell_type": "markdown",
   "metadata": {
    "colab_type": "text",
    "id": "D4QUmhuIEqrC"
   },
   "source": [
    "It look like we have equal number of labels."
   ]
  },
  {
   "cell_type": "code",
   "execution_count": 3,
   "metadata": {
    "colab": {
     "base_uri": "https://localhost:8080/",
     "height": 279
    },
    "colab_type": "code",
    "id": "rgtZRFha_CLC",
    "outputId": "e97f0c70-2e89-451b-fb34-077b40e9de05"
   },
   "outputs": [
    {
     "data": {
      "text/plain": [
       "<matplotlib.axes._subplots.AxesSubplot at 0x7f53e56f2a20>"
      ]
     },
     "execution_count": 3,
     "metadata": {
      "tags": []
     },
     "output_type": "execute_result"
    },
    {
     "data": {
      "image/png": "[encoded data removed]",
      "text/plain": [
       "<Figure size 432x288 with 1 Axes>"
      ]
     },
     "metadata": {
      "needs_background": "light",
      "tags": []
     },
     "output_type": "display_data"
    }
   ],
   "source": [
    "df.label.value_counts().plot(kind='bar')"
   ]
  },
  {
   "cell_type": "code",
   "execution_count": 199,
   "metadata": {
    "colab": {
     "base_uri": "https://localhost:8080/",
     "height": 68
    },
    "colab_type": "code",
    "id": "VlQtTMgcE1vy",
    "outputId": "016869e4-0aea-4c2d-dc94-846cfc58c26e"
   },
   "outputs": [
    {
     "data": {
      "text/plain": [
       "1    500\n",
       "0    500\n",
       "Name: label, dtype: int64"
      ]
     },
     "execution_count": 199,
     "metadata": {
      "tags": []
     },
     "output_type": "execute_result"
    }
   ],
   "source": [
    "df.label.value_counts()"
   ]
  },
  {
   "cell_type": "code",
   "execution_count": 200,
   "metadata": {
    "colab": {
     "base_uri": "https://localhost:8080/",
     "height": 34
    },
    "colab_type": "code",
    "id": "SKhDNBkeE9R9",
    "outputId": "0705598f-ea61-4289-84d8-df85c313974d"
   },
   "outputs": [
    {
     "data": {
      "text/plain": [
       "(1000, 2)"
      ]
     },
     "execution_count": 200,
     "metadata": {
      "tags": []
     },
     "output_type": "execute_result"
    }
   ],
   "source": [
    "df.shape"
   ]
  },
  {
   "cell_type": "code",
   "execution_count": 10,
   "metadata": {
    "colab": {},
    "colab_type": "code",
    "id": "BsICLPPLPqbX"
   },
   "outputs": [],
   "source": [
    "sentences = ['John likes ice cream', 'John hates chocolate.']"
   ]
  },
  {
   "cell_type": "code",
   "execution_count": 11,
   "metadata": {
    "colab": {
     "base_uri": "https://localhost:8080/",
     "height": 34
    },
    "colab_type": "code",
    "id": "8BYkDtjVO0o4",
    "outputId": "9482d578-538d-42ed-d9ab-3cdfe84173fc"
   },
   "outputs": [
    {
     "data": {
      "text/plain": [
       "{'John': 0, 'chocolate': 1, 'cream': 2, 'hates': 3, 'ice': 4, 'likes': 5}"
      ]
     },
     "execution_count": 11,
     "metadata": {
      "tags": []
     },
     "output_type": "execute_result"
    }
   ],
   "source": [
    "from sklearn.feature_extraction.text import CountVectorizer\n",
    "vectorizer=CountVectorizer(min_df=0,lowercase=False)\n",
    "vectorizer.fit(sentences)\n",
    "vectorizer.vocabulary_"
   ]
  },
  {
   "cell_type": "code",
   "execution_count": 14,
   "metadata": {
    "colab": {
     "base_uri": "https://localhost:8080/",
     "height": 51
    },
    "colab_type": "code",
    "id": "bhdKv1KQQzwP",
    "outputId": "36b8a6e8-17c1-4580-8068-4a93dc6e5e64"
   },
   "outputs": [
    {
     "data": {
      "text/plain": [
       "array([[1, 0, 1, 0, 1, 1],\n",
       "       [1, 1, 0, 1, 0, 0]])"
      ]
     },
     "execution_count": 14,
     "metadata": {
      "tags": []
     },
     "output_type": "execute_result"
    }
   ],
   "source": [
    "vectorizer.transform(sentences).toarray()"
   ]
  },
  {
   "cell_type": "code",
   "execution_count": 41,
   "metadata": {
    "colab": {},
    "colab_type": "code",
    "id": "CP5ualnzRr3m"
   },
   "outputs": [],
   "source": [
    "from sklearn.model_selection import train_test_split \n",
    "sentences = df['sentence'].values\n",
    "y = df['label'].values\n",
    "sentences_train, sentences_test, y_train, y_test = train_test_split(sentences, y, test_size=0.25, random_state=1000)"
   ]
  },
  {
   "cell_type": "markdown",
   "metadata": {
    "colab_type": "text",
    "id": "lhRObO8R67r0"
   },
   "source": [
    "# Word cloud"
   ]
  },
  {
   "cell_type": "code",
   "execution_count": 17,
   "metadata": {
    "colab": {
     "base_uri": "https://localhost:8080/",
     "height": 221
    },
    "colab_type": "code",
    "id": "9j3xvnDb7EPN",
    "outputId": "c6b5fad7-2081-4e0b-e371-a83637e2815e"
   },
   "outputs": [
    {
     "data": {
      "text/plain": [
       "1                            Good case, Excellent value.\n",
       "2                                 Great for the jawbone.\n",
       "4                                      The mic is great.\n",
       "7            If you are Razr owner...you must have this!\n",
       "10                       And the sound quality is great.\n",
       "                             ...                        \n",
       "971                                   Excellent product.\n",
       "975    It is the best charger I have seen on the mark...\n",
       "976                                    SWEETEST PHONE!!!\n",
       "977               :-)Oh, the charger seems to work fine.\n",
       "978    It fits so securely that the ear hook does not...\n",
       "Name: sentence, Length: 500, dtype: object"
      ]
     },
     "execution_count": 17,
     "metadata": {
      "tags": []
     },
     "output_type": "execute_result"
    }
   ],
   "source": [
    "Goodrate=df.sentence[df.label==1]\n",
    "Badrate=df.sentence[df.label==0]\n",
    "Goodrate"
   ]
  },
  {
   "cell_type": "code",
   "execution_count": 18,
   "metadata": {
    "colab": {
     "base_uri": "https://localhost:8080/",
     "height": 34
    },
    "colab_type": "code",
    "id": "4zSO0GlS7pax",
    "outputId": "949abb88-250b-4815-bd9c-7c7a8517a51a"
   },
   "outputs": [
    {
     "data": {
      "text/plain": [
       "(500,)"
      ]
     },
     "execution_count": 18,
     "metadata": {
      "tags": []
     },
     "output_type": "execute_result"
    }
   ],
   "source": [
    "Goodrate.shape"
   ]
  },
  {
   "cell_type": "code",
   "execution_count": 19,
   "metadata": {
    "colab": {
     "base_uri": "https://localhost:8080/",
     "height": 247
    },
    "colab_type": "code",
    "id": "reFIw4y6-4Zv",
    "outputId": "596d0f4c-2b78-46dc-810d-e9906dd85fcd"
   },
   "outputs": [
    {
     "data": {
      "image/png": "[encoded data removed]",
      "text/plain": [
       "<Figure size 432x288 with 1 Axes>"
      ]
     },
     "metadata": {
      "needs_background": "light",
      "tags": []
     },
     "output_type": "display_data"
    }
   ],
   "source": [
    "\n",
    "from wordcloud import WordCloud, STOPWORDS\n",
    "import matplotlib.pyplot as plt\n",
    "cloudg = WordCloud(max_font_size=50,max_words=100,background_color=\"white\").generate(Goodrate[975])\n",
    "plt.imshow(cloudg, interpolation=\"bilinear\")\n",
    "plt.axis(\"off\")\n",
    "plt.tight_layout(pad=0)\n",
    "plt.show()"
   ]
  },
  {
   "cell_type": "code",
   "execution_count": 20,
   "metadata": {
    "colab": {
     "base_uri": "https://localhost:8080/",
     "height": 247
    },
    "colab_type": "code",
    "id": "y0IK8LwA8Uni",
    "outputId": "bcccd75e-3a5f-4660-91f0-10cb3303f842"
   },
   "outputs": [
    {
     "data": {
      "image/png": "[encoded data removed]",
      "text/plain": [
       "<Figure size 432x288 with 1 Axes>"
      ]
     },
     "metadata": {
      "needs_background": "light",
      "tags": []
     },
     "output_type": "display_data"
    }
   ],
   "source": [
    "\n",
    "cloudb = WordCloud(max_font_size=50,max_words=100,background_color=\"white\").generate(Badrate[8])\n",
    "plt.imshow(cloudb,interpolation=\"bilinear\")\n",
    "plt.axis(\"off\")\n",
    "plt.tight_layout(pad=0)\n",
    "plt.show()"
   ]
  },
  {
   "cell_type": "code",
   "execution_count": 5,
   "metadata": {
    "colab": {
     "base_uri": "https://localhost:8080/",
     "height": 85
    },
    "colab_type": "code",
    "id": "LNh3XPgiScB6",
    "outputId": "a20ee8a6-9b2c-4830-bf4d-4e081bd30210"
   },
   "outputs": [
    {
     "data": {
      "text/plain": [
       "(<750x1546 sparse matrix of type '<class 'numpy.int64'>'\n",
       " \twith 6817 stored elements in Compressed Sparse Row format>,\n",
       " <250x1546 sparse matrix of type '<class 'numpy.int64'>'\n",
       " \twith 1983 stored elements in Compressed Sparse Row format>)"
      ]
     },
     "execution_count": 5,
     "metadata": {
      "tags": []
     },
     "output_type": "execute_result"
    }
   ],
   "source": [
    "from sklearn.feature_extraction.text import CountVectorizer\n",
    "vectorizer=CountVectorizer()\n",
    "vectorizer.fit(sentences_train)\n",
    "X_train=vectorizer.transform(sentences_train)\n",
    "X_test=vectorizer.transform(sentences_test)\n",
    "X_train,X_test"
   ]
  },
  {
   "cell_type": "code",
   "execution_count": null,
   "metadata": {
    "colab": {},
    "colab_type": "code",
    "id": "0mLOjXCVdxmg"
   },
   "outputs": [],
   "source": [
    " X_train[1]"
   ]
  },
  {
   "cell_type": "markdown",
   "metadata": {
    "colab_type": "text",
    "id": "ozHGAFWkUQUV"
   },
   "source": [
    "let's  run a simple logistic regression on the dataset and look at the outcome"
   ]
  },
  {
   "cell_type": "code",
   "execution_count": 5,
   "metadata": {
    "colab": {
     "base_uri": "https://localhost:8080/",
     "height": 34
    },
    "colab_type": "code",
    "id": "fVL5TUTkTsAq",
    "outputId": "0085e571-c8fc-4aca-8839-362afb611024"
   },
   "outputs": [
    {
     "name": "stdout",
     "output_type": "stream",
     "text": [
      "Accuracy= 79.60000000000001 %\n"
     ]
    }
   ],
   "source": [
    "from sklearn.linear_model import LogisticRegression\n",
    "classifier=LogisticRegression()\n",
    "classifier.fit(X_train,y_train)\n",
    "score=classifier.score(X_test,y_test)\n",
    "print('Accuracy=', score*100,'%')"
   ]
  },
  {
   "cell_type": "markdown",
   "metadata": {
    "colab_type": "text",
    "id": "hl2dDWKgdJz8"
   },
   "source": [
    "# Implementing a DNN to our \"Amazon\" dataset."
   ]
  },
  {
   "cell_type": "code",
   "execution_count": 6,
   "metadata": {
    "colab": {
     "base_uri": "https://localhost:8080/",
     "height": 411
    },
    "colab_type": "code",
    "id": "rgBF9MBBdI4j",
    "outputId": "cfb8032c-fc6d-439c-9b7e-d5a184b0a856"
   },
   "outputs": [
    {
     "name": "stdout",
     "output_type": "stream",
     "text": [
      "Epoch 1/10\n",
      "60/60 [==============================] - 0s 5ms/step - loss: 0.6873 - accuracy: 0.5700 - val_loss: 0.6808 - val_accuracy: 0.6067\n",
      "Epoch 2/10\n",
      "60/60 [==============================] - 0s 3ms/step - loss: 0.6389 - accuracy: 0.8217 - val_loss: 0.6443 - val_accuracy: 0.7400\n",
      "Epoch 3/10\n",
      "60/60 [==============================] - 0s 3ms/step - loss: 0.5607 - accuracy: 0.9133 - val_loss: 0.5912 - val_accuracy: 0.8000\n",
      "Epoch 4/10\n",
      "60/60 [==============================] - 0s 3ms/step - loss: 0.4637 - accuracy: 0.9433 - val_loss: 0.5407 - val_accuracy: 0.7867\n",
      "Epoch 5/10\n",
      "60/60 [==============================] - 0s 3ms/step - loss: 0.3734 - accuracy: 0.9633 - val_loss: 0.5004 - val_accuracy: 0.7933\n",
      "Epoch 6/10\n",
      "60/60 [==============================] - 0s 3ms/step - loss: 0.2969 - accuracy: 0.9783 - val_loss: 0.4715 - val_accuracy: 0.7933\n",
      "Epoch 7/10\n",
      "60/60 [==============================] - 0s 3ms/step - loss: 0.2392 - accuracy: 0.9817 - val_loss: 0.4494 - val_accuracy: 0.8133\n",
      "Epoch 8/10\n",
      "60/60 [==============================] - 0s 3ms/step - loss: 0.1939 - accuracy: 0.9883 - val_loss: 0.4310 - val_accuracy: 0.8200\n",
      "Epoch 9/10\n",
      "60/60 [==============================] - 0s 3ms/step - loss: 0.1584 - accuracy: 0.9933 - val_loss: 0.4194 - val_accuracy: 0.8200\n",
      "Epoch 10/10\n",
      "60/60 [==============================] - 0s 3ms/step - loss: 0.1317 - accuracy: 0.9933 - val_loss: 0.4120 - val_accuracy: 0.8200\n",
      "Test Accuracy: 76.80000066757202\n",
      "Loss: 0.45468926429748535\n"
     ]
    }
   ],
   "source": [
    "\n",
    "X_train = vectorizer.transform(sentences_train).toarray() \n",
    "X_test = vectorizer.transform(sentences_test).toarray()\n",
    "from tensorflow.keras.models import Sequential\n",
    "from tensorflow.keras import layers\n",
    "input_dim=X_train.shape[1]\n",
    "model=Sequential()\n",
    "model.add(layers.Dense(10,input_dim=input_dim, activation='relu'))\n",
    "model.add(layers.Dense(1,activation='sigmoid'))\n",
    "model.compile(loss='binary_crossentropy',metrics=['accuracy'],optimizer='adam')\n",
    "hist=model.fit(X_train,y_train,validation_split=.2,batch_size=10,verbose=1,epochs=10)\n",
    "loss,accuracy=model.evaluate(X_test,y_test,verbose=False)\n",
    "print('Test Accuracy:', accuracy*100)\n",
    "print('Loss:', loss)"
   ]
  },
  {
   "cell_type": "markdown",
   "metadata": {
    "colab_type": "text",
    "id": "7v1sSkAfnN6E"
   },
   "source": [
    "Drawing the learning curve"
   ]
  },
  {
   "cell_type": "code",
   "execution_count": 7,
   "metadata": {
    "colab": {
     "base_uri": "https://localhost:8080/",
     "height": 716
    },
    "colab_type": "code",
    "id": "LdnFGukcnIs8",
    "outputId": "f94f221d-864c-4eab-cc04-3a59ea96ae0f"
   },
   "outputs": [
    {
     "name": "stderr",
     "output_type": "stream",
     "text": [
      "/usr/local/lib/python3.6/dist-packages/ipykernel_launcher.py:8: MatplotlibDeprecationWarning: Unrecognized location 'lower write'. Falling back on 'best'; valid locations are\n",
      "\tbest\n",
      "\tupper right\n",
      "\tupper left\n",
      "\tlower left\n",
      "\tlower right\n",
      "\tright\n",
      "\tcenter left\n",
      "\tcenter right\n",
      "\tlower center\n",
      "\tupper center\n",
      "\tcenter\n",
      "This will raise an exception in 3.3.\n",
      "  \n"
     ]
    },
    {
     "data": {
      "image/png": "[encoded data removed]",
      "text/plain": [
       "<Figure size 720x504 with 2 Axes>"
      ]
     },
     "metadata": {
      "needs_background": "light",
      "tags": []
     },
     "output_type": "display_data"
    }
   ],
   "source": [
    "import matplotlib.pyplot as plt\n",
    "plt.figure(figsize=(10,7))\n",
    "plt.subplot(2,1,1)\n",
    "plt.plot(hist.history['accuracy'])\n",
    "plt.plot(hist.history['val_accuracy'])\n",
    "plt.xlabel('epochs')\n",
    "plt.ylabel('accuracy')\n",
    "plt.legend(['train','validation'], loc='lower write')\n",
    "plt.title('model accuracy')\n",
    "\n",
    "plt.subplot(2,1,2)\n",
    "plt.plot(hist.history['loss'])\n",
    "plt.plot(hist.history['val_loss'])\n",
    "plt.title('model loss')\n",
    "plt.ylabel('loss')\n",
    "plt.xlabel('epoch')\n",
    "plt.legend(['train', 'validation'], loc='upper right')\n",
    "\n",
    "plt.show()"
   ]
  },
  {
   "cell_type": "markdown",
   "metadata": {
    "colab_type": "text",
    "id": "ntnz50RAnoHE"
   },
   "source": [
    "# Q4\n",
    "The learning curve above shows that our model is overfitting. This problem can be solve through \"regularization\" (lasso or ridge),dropout or early stopping. Let's improve it with l2 regularizer."
   ]
  },
  {
   "cell_type": "code",
   "execution_count": 5,
   "metadata": {
    "colab": {
     "base_uri": "https://localhost:8080/",
     "height": 411
    },
    "colab_type": "code",
    "id": "iivU08F1qwoG",
    "outputId": "e979a2f1-3986-4e00-d236-e6a4dca95612"
   },
   "outputs": [
    {
     "name": "stdout",
     "output_type": "stream",
     "text": [
      "Epoch 1/10\n",
      "60/60 [==============================] - 0s 5ms/step - loss: 1.8359 - accuracy: 0.5700 - val_loss: 0.7546 - val_accuracy: 0.6600\n",
      "Epoch 2/10\n",
      "60/60 [==============================] - 0s 3ms/step - loss: 0.7017 - accuracy: 0.7217 - val_loss: 0.6903 - val_accuracy: 0.7867\n",
      "Epoch 3/10\n",
      "60/60 [==============================] - 0s 3ms/step - loss: 0.6876 - accuracy: 0.7383 - val_loss: 0.6869 - val_accuracy: 0.7133\n",
      "Epoch 4/10\n",
      "60/60 [==============================] - 0s 3ms/step - loss: 0.6862 - accuracy: 0.7533 - val_loss: 0.6843 - val_accuracy: 0.7267\n",
      "Epoch 5/10\n",
      "60/60 [==============================] - 0s 3ms/step - loss: 0.6843 - accuracy: 0.7717 - val_loss: 0.6836 - val_accuracy: 0.7467\n",
      "Epoch 6/10\n",
      "60/60 [==============================] - 0s 3ms/step - loss: 0.6814 - accuracy: 0.7583 - val_loss: 0.6805 - val_accuracy: 0.7667\n",
      "Epoch 7/10\n",
      "60/60 [==============================] - 0s 3ms/step - loss: 0.6798 - accuracy: 0.7650 - val_loss: 0.6798 - val_accuracy: 0.7600\n",
      "Epoch 8/10\n",
      "60/60 [==============================] - 0s 3ms/step - loss: 0.6766 - accuracy: 0.7917 - val_loss: 0.6798 - val_accuracy: 0.7533\n",
      "Epoch 9/10\n",
      "60/60 [==============================] - 0s 3ms/step - loss: 0.6750 - accuracy: 0.7550 - val_loss: 0.6798 - val_accuracy: 0.8133\n",
      "Epoch 10/10\n",
      "60/60 [==============================] - 0s 3ms/step - loss: 0.6727 - accuracy: 0.7583 - val_loss: 0.6727 - val_accuracy: 0.7600\n",
      "Test Accuracy: 71.20000123977661\n",
      "Loss: 0.6761423945426941\n"
     ]
    }
   ],
   "source": [
    "from tensorflow.keras import regularizers\n",
    "X_train = vectorizer.transform(sentences_train).toarray() \n",
    "X_test = vectorizer.transform(sentences_test).toarray()\n",
    "from tensorflow.keras.models import Sequential\n",
    "from tensorflow.keras import layers\n",
    "input_dim=X_train.shape[1]\n",
    "model=Sequential()\n",
    "model.add(layers.Dense(10,input_dim=input_dim,kernel_regularizer=regularizers.l2(.2), activation='relu'))\n",
    "model.add(layers.Dense(1,activation='sigmoid'))\n",
    "model.compile(loss='binary_crossentropy',metrics=['accuracy'],optimizer='adam')\n",
    "hist=model.fit(X_train,y_train,validation_split=.2,batch_size=10,verbose=1,epochs=10)\n",
    "loss,accuracy=model.evaluate(X_test,y_test,verbose=False)\n",
    "print('Test Accuracy:', accuracy*100)\n",
    "print('Loss:', loss)"
   ]
  },
  {
   "cell_type": "code",
   "execution_count": 6,
   "metadata": {
    "colab": {
     "base_uri": "https://localhost:8080/",
     "height": 716
    },
    "colab_type": "code",
    "id": "h1flj2-YrJni",
    "outputId": "c6b6cc97-1ece-42ab-dad7-440c63fc8b37"
   },
   "outputs": [
    {
     "name": "stderr",
     "output_type": "stream",
     "text": [
      "/usr/local/lib/python3.6/dist-packages/ipykernel_launcher.py:8: MatplotlibDeprecationWarning: Unrecognized location 'lower write'. Falling back on 'best'; valid locations are\n",
      "\tbest\n",
      "\tupper right\n",
      "\tupper left\n",
      "\tlower left\n",
      "\tlower right\n",
      "\tright\n",
      "\tcenter left\n",
      "\tcenter right\n",
      "\tlower center\n",
      "\tupper center\n",
      "\tcenter\n",
      "This will raise an exception in 3.3.\n",
      "  \n"
     ]
    },
    {
     "data": {
      "image/png": "[encoded data removed]",
      "text/plain": [
       "<Figure size 720x504 with 2 Axes>"
      ]
     },
     "metadata": {
      "needs_background": "light",
      "tags": []
     },
     "output_type": "display_data"
    }
   ],
   "source": [
    "import matplotlib.pyplot as plt\n",
    "plt.figure(figsize=(10,7))\n",
    "plt.subplot(2,1,1)\n",
    "plt.plot(hist.history['accuracy'])\n",
    "plt.plot(hist.history['val_accuracy'])\n",
    "plt.xlabel('epochs')\n",
    "plt.ylabel('accuracy')\n",
    "plt.legend(['train','validation'], loc='lower write')\n",
    "plt.title('model accuracy')\n",
    "\n",
    "plt.subplot(2,1,2)\n",
    "plt.plot(hist.history['loss'])\n",
    "plt.plot(hist.history['val_loss'])\n",
    "plt.title('model loss')\n",
    "plt.ylabel('loss')\n",
    "plt.xlabel('epoch')\n",
    "plt.legend(['train', 'validation'], loc='upper right')\n",
    "\n",
    "plt.show()"
   ]
  },
  {
   "cell_type": "markdown",
   "metadata": {
    "colab_type": "text",
    "id": "7uZqgiIMrK3W"
   },
   "source": [
    "Voilla! we've improved our model with a ridge regularizer. The above learning curve looks great. "
   ]
  },
  {
   "cell_type": "markdown",
   "metadata": {
    "colab_type": "text",
    "id": "1ZYNF_FNn3RY"
   },
   "source": [
    "# Further Model improvement\n",
    "Create 3 hidden layers (first one 200 nodes, second one 100 nodes and last one 50 nodes and after each step, add dropout of 0.2 and report the accuracy"
   ]
  },
  {
   "cell_type": "code",
   "execution_count": 8,
   "metadata": {
    "colab": {
     "base_uri": "https://localhost:8080/",
     "height": 394
    },
    "colab_type": "code",
    "id": "ungJMW04oAbM",
    "outputId": "014f0e9d-af8f-459e-a234-9170d9738be5"
   },
   "outputs": [
    {
     "name": "stdout",
     "output_type": "stream",
     "text": [
      "Epoch 1/10\n",
      "60/60 [==============================] - 0s 5ms/step - loss: 0.6992 - accuracy: 0.5183 - val_loss: 0.6864 - val_accuracy: 0.4933\n",
      "Epoch 2/10\n",
      "60/60 [==============================] - 0s 4ms/step - loss: 0.6546 - accuracy: 0.6383 - val_loss: 0.6028 - val_accuracy: 0.7867\n",
      "Epoch 3/10\n",
      "60/60 [==============================] - 0s 3ms/step - loss: 0.4159 - accuracy: 0.8900 - val_loss: 0.4061 - val_accuracy: 0.8267\n",
      "Epoch 4/10\n",
      "60/60 [==============================] - 0s 3ms/step - loss: 0.1413 - accuracy: 0.9800 - val_loss: 0.3756 - val_accuracy: 0.8400\n",
      "Epoch 5/10\n",
      "60/60 [==============================] - 0s 3ms/step - loss: 0.0587 - accuracy: 0.9950 - val_loss: 0.3882 - val_accuracy: 0.8333\n",
      "Epoch 6/10\n",
      "60/60 [==============================] - 0s 3ms/step - loss: 0.0282 - accuracy: 1.0000 - val_loss: 0.4073 - val_accuracy: 0.8400\n",
      "Epoch 7/10\n",
      "60/60 [==============================] - 0s 4ms/step - loss: 0.0201 - accuracy: 1.0000 - val_loss: 0.4160 - val_accuracy: 0.8533\n",
      "Epoch 8/10\n",
      "60/60 [==============================] - 0s 3ms/step - loss: 0.0141 - accuracy: 1.0000 - val_loss: 0.4300 - val_accuracy: 0.8600\n",
      "Epoch 9/10\n",
      "60/60 [==============================] - 0s 3ms/step - loss: 0.0107 - accuracy: 1.0000 - val_loss: 0.4412 - val_accuracy: 0.8533\n",
      "Epoch 10/10\n",
      "60/60 [==============================] - 0s 3ms/step - loss: 0.0083 - accuracy: 1.0000 - val_loss: 0.4533 - val_accuracy: 0.8533\n",
      "Test Accuracy: 79.19999957084656\n"
     ]
    }
   ],
   "source": [
    "X_train = vectorizer.transform(sentences_train).toarray() \n",
    "X_test = vectorizer.transform(sentences_test).toarray()\n",
    "from tensorflow.keras.models import Sequential\n",
    "from tensorflow.keras.layers import Dropout, Dense\n",
    "input_dim=X_train.shape[1]\n",
    "model=Sequential()\n",
    "model.add(Dense(200,input_dim=input_dim, activation='relu'))\n",
    "model.add(Dropout(.2))\n",
    "model.add(Dense(100,activation='sigmoid'))\n",
    "model.add(Dropout(.2))\n",
    "model.add(Dense(50,activation='sigmoid'))\n",
    "model.add(Dropout(.2))\n",
    "model.add(Dense(1,activation='sigmoid'))\n",
    "model.compile(loss='binary_crossentropy',metrics=['accuracy'],optimizer='adam')\n",
    "hist=model.fit(X_train,y_train,validation_split=.2,batch_size=10,verbose=1,epochs=10)\n",
    "loss,accuracy=model.evaluate(X_test,y_test,verbose=False)\n",
    "print('Test Accuracy:', accuracy*100)"
   ]
  },
  {
   "cell_type": "code",
   "execution_count": 10,
   "metadata": {
    "colab": {
     "base_uri": "https://localhost:8080/",
     "height": 716
    },
    "colab_type": "code",
    "id": "awIvPoJvOu7O",
    "outputId": "cbe27517-3fab-45db-9923-e6fd535c9207"
   },
   "outputs": [
    {
     "name": "stderr",
     "output_type": "stream",
     "text": [
      "/usr/local/lib/python3.6/dist-packages/ipykernel_launcher.py:8: MatplotlibDeprecationWarning: Unrecognized location 'lower write'. Falling back on 'best'; valid locations are\n",
      "\tbest\n",
      "\tupper right\n",
      "\tupper left\n",
      "\tlower left\n",
      "\tlower right\n",
      "\tright\n",
      "\tcenter left\n",
      "\tcenter right\n",
      "\tlower center\n",
      "\tupper center\n",
      "\tcenter\n",
      "This will raise an exception in 3.3.\n",
      "  \n"
     ]
    },
    {
     "data": {
      "image/png": "[encoded data removed]",
      "text/plain": [
       "<Figure size 720x504 with 2 Axes>"
      ]
     },
     "metadata": {
      "needs_background": "light",
      "tags": []
     },
     "output_type": "display_data"
    }
   ],
   "source": [
    "import matplotlib.pyplot as plt\n",
    "plt.figure(figsize=(10,7))\n",
    "plt.subplot(2,1,1)\n",
    "plt.plot(hist.history['accuracy'])\n",
    "plt.plot(hist.history['val_accuracy'])\n",
    "plt.xlabel('epochs')\n",
    "plt.ylabel('accuracy')\n",
    "plt.legend(['train','validation'], loc='lower write')\n",
    "plt.title('model accuracy')\n",
    "\n",
    "plt.subplot(2,1,2)\n",
    "plt.plot(hist.history['loss'])\n",
    "plt.plot(hist.history['val_loss'])\n",
    "plt.title('model loss')\n",
    "plt.ylabel('loss')\n",
    "plt.xlabel('epoch')\n",
    "plt.legend(['train', 'validation'], loc='upper right')\n",
    "\n",
    "plt.show()"
   ]
  },
  {
   "cell_type": "markdown",
   "metadata": {
    "colab_type": "text",
    "id": "qmQDPlAw5AWU"
   },
   "source": [
    "As we can see adding 3 more hidden layers has not improved our model at all. It has actually worsen the model, making it more complex and prone to overfitting."
   ]
  },
  {
   "cell_type": "markdown",
   "metadata": {
    "colab_type": "text",
    "id": "huQp2Mo-dCne"
   },
   "source": [
    "# 3.2. Embedded word:"
   ]
  },
  {
   "cell_type": "code",
   "execution_count": 131,
   "metadata": {
    "colab": {
     "base_uri": "https://localhost:8080/",
     "height": 88
    },
    "colab_type": "code",
    "id": "d43tjRuMFQQs",
    "outputId": "8e5743cc-91fd-4f46-dcb9-3356ed3c42c6"
   },
   "outputs": [
    {
     "name": "stdout",
     "output_type": "stream",
     "text": [
      "This is the phone to get for 2005.... I just bought my S710a and all I can say is WOW!\n",
      "[7, 5, 1, 9, 8, 92, 11, 676, 2, 59, 101, 10, 677, 3, 32, 2, 71, 225, 5, 449]\n"
     ]
    },
    {
     "data": {
      "text/plain": [
       "(None, None)"
      ]
     },
     "execution_count": 131,
     "metadata": {
      "tags": []
     },
     "output_type": "execute_result"
    }
   ],
   "source": [
    "from keras.preprocessing.text import Tokenizer \n",
    "tokenizer = Tokenizer(num_words=5000)\n",
    "tokenizer.fit_on_texts(sentences_train)\n",
    "X_train = tokenizer.texts_to_sequences(sentences_train)\n",
    "X_test = tokenizer.texts_to_sequences(sentences_test)\n",
    "vocab_size = len(tokenizer.word_index) + 1 \n",
    "print(sentences_train[3]),print(X_train[3])\n"
   ]
  },
  {
   "cell_type": "code",
   "execution_count": 9,
   "metadata": {
    "colab": {
     "base_uri": "https://localhost:8080/",
     "height": 34
    },
    "colab_type": "code",
    "id": "aIf83bWbkGR4",
    "outputId": "2c61e0c9-9b21-4edb-c205-095833a63412"
   },
   "outputs": [
    {
     "data": {
      "text/plain": [
       "1574"
      ]
     },
     "execution_count": 9,
     "metadata": {
      "tags": []
     },
     "output_type": "execute_result"
    }
   ],
   "source": [
    "vocab_size"
   ]
  },
  {
   "cell_type": "code",
   "execution_count": 20,
   "metadata": {
    "colab": {
     "base_uri": "https://localhost:8080/",
     "height": 68
    },
    "colab_type": "code",
    "id": "0Yy_enJ0myNU",
    "outputId": "71a97207-04bf-4280-dc9a-d483e1106f7b"
   },
   "outputs": [
    {
     "name": "stdout",
     "output_type": "stream",
     "text": [
      "the: 1\n",
      "all: 32\n",
      "happy: 86\n"
     ]
    }
   ],
   "source": [
    "for word in ['the', 'all', 'happy']:\n",
    " print('{}: {}'.format(word, tokenizer.word_index[word]))"
   ]
  },
  {
   "cell_type": "code",
   "execution_count": 132,
   "metadata": {
    "colab": {
     "base_uri": "https://localhost:8080/",
     "height": 119
    },
    "colab_type": "code",
    "id": "Ai9QcFh8m5aj",
    "outputId": "ddece3a6-b178-45c3-beea-f18751377773"
   },
   "outputs": [
    {
     "name": "stdout",
     "output_type": "stream",
     "text": [
      "[  7  24   5  16   4 137 148   6 223 315   2  71 224   8   1 673 111 444\n",
      "  18 316  11 445   0   0   0   0   0   0   0   0   0   0   0   0   0   0\n",
      "   0   0   0   0   0   0   0   0   0   0   0   0   0   0   0   0   0   0\n",
      "   0   0   0   0   0   0   0   0   0   0   0   0   0   0   0   0   0   0\n",
      "   0   0   0   0   0   0   0   0   0   0   0   0   0   0   0   0   0   0\n",
      "   0   0   0   0   0   0   0   0   0   0]\n"
     ]
    }
   ],
   "source": [
    "from keras.preprocessing.sequence import pad_sequences \n",
    "maxlen = 100\n",
    "X_train = pad_sequences(X_train, padding='post', maxlen=maxlen) \n",
    "X_test = pad_sequences(X_test, padding='post', maxlen=maxlen) \n",
    "print(X_train[0, :])"
   ]
  },
  {
   "cell_type": "markdown",
   "metadata": {
    "colab_type": "text",
    "id": "POjow4pStnKq"
   },
   "source": [
    "# 3.3. Model training"
   ]
  },
  {
   "cell_type": "code",
   "execution_count": 77,
   "metadata": {
    "colab": {
     "base_uri": "https://localhost:8080/",
     "height": 289
    },
    "colab_type": "code",
    "id": "sI5t6Xb8tmHo",
    "outputId": "ca13f4ed-f661-4fdb-b705-fa9d5c325ca5"
   },
   "outputs": [
    {
     "name": "stdout",
     "output_type": "stream",
     "text": [
      "Model: \"sequential_2\"\n",
      "_________________________________________________________________\n",
      "Layer (type)                 Output Shape              Param #   \n",
      "=================================================================\n",
      "embedding_2 (Embedding)      (None, 100, 50)           78700     \n",
      "_________________________________________________________________\n",
      "global_max_pooling1d_2 (Glob (None, 50)                0         \n",
      "_________________________________________________________________\n",
      "dense_4 (Dense)              (None, 10)                510       \n",
      "_________________________________________________________________\n",
      "dense_5 (Dense)              (None, 1)                 11        \n",
      "=================================================================\n",
      "Total params: 79,221\n",
      "Trainable params: 79,221\n",
      "Non-trainable params: 0\n",
      "_________________________________________________________________\n"
     ]
    }
   ],
   "source": [
    "from tensorflow.keras.models import Sequential \n",
    "from tensorflow.keras import layers\n",
    "embedding_dim = 50\n",
    "model = Sequential() \n",
    "model.add(layers.Embedding(input_dim=vocab_size,\n",
    "output_dim=embedding_dim,\n",
    "input_length=maxlen)) \n",
    "model.add(layers.GlobalMaxPool1D())\n",
    "model.add(layers.Dense(10, activation='relu'))\n",
    "model.add(layers.Dense(1, activation='sigmoid'))\n",
    "model.compile(optimizer='adam', loss='binary_crossentropy', metrics=['accuracy'])\n",
    "model.summary()"
   ]
  },
  {
   "cell_type": "markdown",
   "metadata": {
    "colab_type": "text",
    "id": "gWeoRaCbyTE2"
   },
   "source": [
    " **Model training  and evaluation** "
   ]
  },
  {
   "cell_type": "code",
   "execution_count": 81,
   "metadata": {
    "colab": {
     "base_uri": "https://localhost:8080/",
     "height": 1000
    },
    "colab_type": "code",
    "id": "1kjkEg6GySrg",
    "outputId": "833cf000-7037-468d-f8d2-38e70eff9b3f"
   },
   "outputs": [
    {
     "name": "stdout",
     "output_type": "stream",
     "text": [
      "Epoch 1/50\n",
      "60/60 [==============================] - 0s 6ms/step - loss: 0.6918 - accuracy: 0.4883 - val_loss: 0.6876 - val_accuracy: 0.5267\n",
      "Epoch 2/50\n",
      "60/60 [==============================] - 0s 4ms/step - loss: 0.6778 - accuracy: 0.6217 - val_loss: 0.6701 - val_accuracy: 0.7400\n",
      "Epoch 3/50\n",
      "60/60 [==============================] - 0s 4ms/step - loss: 0.6288 - accuracy: 0.9133 - val_loss: 0.6226 - val_accuracy: 0.7733\n",
      "Epoch 4/50\n",
      "60/60 [==============================] - 0s 4ms/step - loss: 0.5212 - accuracy: 0.9550 - val_loss: 0.5465 - val_accuracy: 0.8000\n",
      "Epoch 5/50\n",
      "60/60 [==============================] - 0s 4ms/step - loss: 0.3685 - accuracy: 0.9550 - val_loss: 0.4719 - val_accuracy: 0.8133\n",
      "Epoch 6/50\n",
      "60/60 [==============================] - 0s 4ms/step - loss: 0.2314 - accuracy: 0.9733 - val_loss: 0.4205 - val_accuracy: 0.8067\n",
      "Epoch 7/50\n",
      "60/60 [==============================] - 0s 4ms/step - loss: 0.1412 - accuracy: 0.9750 - val_loss: 0.3999 - val_accuracy: 0.7933\n",
      "Epoch 8/50\n",
      "60/60 [==============================] - 0s 4ms/step - loss: 0.0854 - accuracy: 0.9900 - val_loss: 0.3817 - val_accuracy: 0.8200\n",
      "Epoch 9/50\n",
      "60/60 [==============================] - 0s 4ms/step - loss: 0.0540 - accuracy: 0.9950 - val_loss: 0.3761 - val_accuracy: 0.8400\n",
      "Epoch 10/50\n",
      "60/60 [==============================] - 0s 4ms/step - loss: 0.0359 - accuracy: 0.9983 - val_loss: 0.3722 - val_accuracy: 0.8400\n",
      "Epoch 11/50\n",
      "60/60 [==============================] - 0s 4ms/step - loss: 0.0248 - accuracy: 1.0000 - val_loss: 0.3748 - val_accuracy: 0.8267\n",
      "Epoch 12/50\n",
      "60/60 [==============================] - 0s 4ms/step - loss: 0.0180 - accuracy: 1.0000 - val_loss: 0.3743 - val_accuracy: 0.8467\n",
      "Epoch 13/50\n",
      "60/60 [==============================] - 0s 4ms/step - loss: 0.0134 - accuracy: 1.0000 - val_loss: 0.3775 - val_accuracy: 0.8333\n",
      "Epoch 14/50\n",
      "60/60 [==============================] - 0s 4ms/step - loss: 0.0103 - accuracy: 1.0000 - val_loss: 0.3814 - val_accuracy: 0.8267\n",
      "Epoch 15/50\n",
      "60/60 [==============================] - 0s 4ms/step - loss: 0.0081 - accuracy: 1.0000 - val_loss: 0.3867 - val_accuracy: 0.8333\n",
      "Epoch 16/50\n",
      "60/60 [==============================] - 0s 4ms/step - loss: 0.0066 - accuracy: 1.0000 - val_loss: 0.3912 - val_accuracy: 0.8467\n",
      "Epoch 17/50\n",
      "60/60 [==============================] - 0s 4ms/step - loss: 0.0054 - accuracy: 1.0000 - val_loss: 0.3961 - val_accuracy: 0.8467\n",
      "Epoch 18/50\n",
      "60/60 [==============================] - 0s 4ms/step - loss: 0.0045 - accuracy: 1.0000 - val_loss: 0.4014 - val_accuracy: 0.8400\n",
      "Epoch 19/50\n",
      "60/60 [==============================] - 0s 4ms/step - loss: 0.0038 - accuracy: 1.0000 - val_loss: 0.4056 - val_accuracy: 0.8400\n",
      "Epoch 20/50\n",
      "60/60 [==============================] - 0s 4ms/step - loss: 0.0033 - accuracy: 1.0000 - val_loss: 0.4108 - val_accuracy: 0.8400\n",
      "Epoch 21/50\n",
      "60/60 [==============================] - 0s 4ms/step - loss: 0.0028 - accuracy: 1.0000 - val_loss: 0.4141 - val_accuracy: 0.8400\n",
      "Epoch 22/50\n",
      "60/60 [==============================] - 0s 4ms/step - loss: 0.0025 - accuracy: 1.0000 - val_loss: 0.4191 - val_accuracy: 0.8400\n",
      "Epoch 23/50\n",
      "60/60 [==============================] - 0s 4ms/step - loss: 0.0022 - accuracy: 1.0000 - val_loss: 0.4216 - val_accuracy: 0.8400\n",
      "Epoch 24/50\n",
      "60/60 [==============================] - 0s 4ms/step - loss: 0.0019 - accuracy: 1.0000 - val_loss: 0.4237 - val_accuracy: 0.8467\n",
      "Epoch 25/50\n",
      "60/60 [==============================] - 0s 4ms/step - loss: 0.0017 - accuracy: 1.0000 - val_loss: 0.4264 - val_accuracy: 0.8400\n",
      "Epoch 26/50\n",
      "60/60 [==============================] - 0s 4ms/step - loss: 0.0015 - accuracy: 1.0000 - val_loss: 0.4283 - val_accuracy: 0.8400\n",
      "Epoch 27/50\n",
      "60/60 [==============================] - 0s 4ms/step - loss: 0.0014 - accuracy: 1.0000 - val_loss: 0.4306 - val_accuracy: 0.8400\n",
      "Epoch 28/50\n",
      "60/60 [==============================] - 0s 4ms/step - loss: 0.0012 - accuracy: 1.0000 - val_loss: 0.4325 - val_accuracy: 0.8400\n",
      "Epoch 29/50\n",
      "60/60 [==============================] - 0s 4ms/step - loss: 0.0011 - accuracy: 1.0000 - val_loss: 0.4354 - val_accuracy: 0.8400\n",
      "Epoch 30/50\n",
      "60/60 [==============================] - 0s 5ms/step - loss: 0.0010 - accuracy: 1.0000 - val_loss: 0.4387 - val_accuracy: 0.8400\n",
      "Epoch 31/50\n",
      "60/60 [==============================] - 0s 4ms/step - loss: 9.3349e-04 - accuracy: 1.0000 - val_loss: 0.4409 - val_accuracy: 0.8400\n",
      "Epoch 32/50\n",
      "60/60 [==============================] - 0s 4ms/step - loss: 8.5671e-04 - accuracy: 1.0000 - val_loss: 0.4433 - val_accuracy: 0.8400\n",
      "Epoch 33/50\n",
      "60/60 [==============================] - 0s 4ms/step - loss: 7.8763e-04 - accuracy: 1.0000 - val_loss: 0.4464 - val_accuracy: 0.8400\n",
      "Epoch 34/50\n",
      "60/60 [==============================] - 0s 4ms/step - loss: 7.2181e-04 - accuracy: 1.0000 - val_loss: 0.4487 - val_accuracy: 0.8333\n",
      "Epoch 35/50\n",
      "60/60 [==============================] - 0s 5ms/step - loss: 6.6616e-04 - accuracy: 1.0000 - val_loss: 0.4507 - val_accuracy: 0.8333\n",
      "Epoch 36/50\n",
      "60/60 [==============================] - 0s 4ms/step - loss: 6.1476e-04 - accuracy: 1.0000 - val_loss: 0.4536 - val_accuracy: 0.8333\n",
      "Epoch 37/50\n",
      "60/60 [==============================] - 0s 4ms/step - loss: 5.6950e-04 - accuracy: 1.0000 - val_loss: 0.4556 - val_accuracy: 0.8333\n",
      "Epoch 38/50\n",
      "60/60 [==============================] - 0s 4ms/step - loss: 5.2780e-04 - accuracy: 1.0000 - val_loss: 0.4574 - val_accuracy: 0.8333\n",
      "Epoch 39/50\n",
      "60/60 [==============================] - 0s 4ms/step - loss: 4.9149e-04 - accuracy: 1.0000 - val_loss: 0.4595 - val_accuracy: 0.8333\n",
      "Epoch 40/50\n",
      "60/60 [==============================] - 0s 4ms/step - loss: 4.5735e-04 - accuracy: 1.0000 - val_loss: 0.4617 - val_accuracy: 0.8333\n",
      "Epoch 41/50\n",
      "60/60 [==============================] - 0s 4ms/step - loss: 4.2664e-04 - accuracy: 1.0000 - val_loss: 0.4636 - val_accuracy: 0.8333\n",
      "Epoch 42/50\n",
      "60/60 [==============================] - 0s 4ms/step - loss: 3.9822e-04 - accuracy: 1.0000 - val_loss: 0.4653 - val_accuracy: 0.8333\n",
      "Epoch 43/50\n",
      "60/60 [==============================] - 0s 4ms/step - loss: 3.7272e-04 - accuracy: 1.0000 - val_loss: 0.4666 - val_accuracy: 0.8333\n",
      "Epoch 44/50\n",
      "60/60 [==============================] - 0s 4ms/step - loss: 3.4903e-04 - accuracy: 1.0000 - val_loss: 0.4677 - val_accuracy: 0.8333\n",
      "Epoch 45/50\n",
      "60/60 [==============================] - 0s 4ms/step - loss: 3.2660e-04 - accuracy: 1.0000 - val_loss: 0.4696 - val_accuracy: 0.8333\n",
      "Epoch 46/50\n",
      "60/60 [==============================] - 0s 4ms/step - loss: 3.0668e-04 - accuracy: 1.0000 - val_loss: 0.4713 - val_accuracy: 0.8333\n",
      "Epoch 47/50\n",
      "60/60 [==============================] - 0s 4ms/step - loss: 2.8807e-04 - accuracy: 1.0000 - val_loss: 0.4723 - val_accuracy: 0.8333\n",
      "Epoch 48/50\n",
      "60/60 [==============================] - 0s 4ms/step - loss: 2.7133e-04 - accuracy: 1.0000 - val_loss: 0.4742 - val_accuracy: 0.8267\n",
      "Epoch 49/50\n",
      "60/60 [==============================] - 0s 4ms/step - loss: 2.5582e-04 - accuracy: 1.0000 - val_loss: 0.4752 - val_accuracy: 0.8267\n",
      "Epoch 50/50\n",
      "60/60 [==============================] - 0s 4ms/step - loss: 2.4120e-04 - accuracy: 1.0000 - val_loss: 0.4765 - val_accuracy: 0.8267\n",
      "Accuracy=  78.79999876022339 %\n"
     ]
    }
   ],
   "source": [
    "hist = model.fit(X_train, y_train, epochs=50,validation_split=0.2,batch_size=10)\n",
    "loss, accuracy = model.evaluate(X_test, y_test, verbose=False)\n",
    "print(\"Accuracy= \",accuracy*100, '%')"
   ]
  },
  {
   "cell_type": "code",
   "execution_count": 84,
   "metadata": {
    "colab": {
     "base_uri": "https://localhost:8080/",
     "height": 716
    },
    "colab_type": "code",
    "id": "eXnTZ1W9J2IR",
    "outputId": "bdbb58be-0b19-47a1-e61e-f157b1b07343"
   },
   "outputs": [
    {
     "name": "stderr",
     "output_type": "stream",
     "text": [
      "/usr/local/lib/python3.6/dist-packages/ipykernel_launcher.py:8: MatplotlibDeprecationWarning: Unrecognized location 'lower write'. Falling back on 'best'; valid locations are\n",
      "\tbest\n",
      "\tupper right\n",
      "\tupper left\n",
      "\tlower left\n",
      "\tlower right\n",
      "\tright\n",
      "\tcenter left\n",
      "\tcenter right\n",
      "\tlower center\n",
      "\tupper center\n",
      "\tcenter\n",
      "This will raise an exception in 3.3.\n",
      "  \n"
     ]
    },
    {
     "data": {
      "image/png": "[encoded data removed]",
      "text/plain": [
       "<Figure size 720x504 with 2 Axes>"
      ]
     },
     "metadata": {
      "needs_background": "light",
      "tags": []
     },
     "output_type": "display_data"
    }
   ],
   "source": [
    "import matplotlib.pyplot as plt\n",
    "plt.figure(figsize=(10,7))\n",
    "plt.subplot(2,1,1)\n",
    "plt.plot(hist.history['accuracy'])\n",
    "plt.plot(hist.history['val_accuracy'])\n",
    "plt.xlabel('epochs')\n",
    "plt.ylabel('accuracy')\n",
    "plt.legend(['train','validation'], loc='lower write')\n",
    "plt.title('model accuracy')\n",
    "\n",
    "plt.subplot(2,1,2)\n",
    "plt.plot(hist.history['loss'])\n",
    "plt.plot(hist.history['val_loss'])\n",
    "plt.title('model loss')\n",
    "plt.ylabel('loss')\n",
    "plt.xlabel('epochs')\n",
    "plt.legend(['train', 'validation'], loc='upper right')\n",
    "plt.show()"
   ]
  },
  {
   "cell_type": "markdown",
   "metadata": {
    "colab_type": "text",
    "id": "kJ1MdcqFKfr9"
   },
   "source": [
    "# Q5: Interpreting the learning curve\n",
    "The model is overfitting since the validation curve is shifting  from the training one (a big gap between the 2 curves)."
   ]
  },
  {
   "cell_type": "markdown",
   "metadata": {
    "colab_type": "text",
    "id": "pRoZRm1uK4VB"
   },
   "source": [
    "# Q6: Model improvement\n",
    "In order to improve the model, we will add a dropout layer coupled with initializer and regularizer(l2) kernels."
   ]
  },
  {
   "cell_type": "code",
   "execution_count": 193,
   "metadata": {
    "colab": {
     "base_uri": "https://localhost:8080/",
     "height": 323
    },
    "colab_type": "code",
    "id": "cMotep39MLyp",
    "outputId": "0d495aeb-2dd8-4c65-ce72-7a2dc5646ce5"
   },
   "outputs": [
    {
     "name": "stdout",
     "output_type": "stream",
     "text": [
      "Model: \"sequential_34\"\n",
      "_________________________________________________________________\n",
      "Layer (type)                 Output Shape              Param #   \n",
      "=================================================================\n",
      "embedding_27 (Embedding)     (None, 100, 50)           78700     \n",
      "_________________________________________________________________\n",
      "global_max_pooling1d_27 (Glo (None, 50)                0         \n",
      "_________________________________________________________________\n",
      "dense_59 (Dense)             (None, 100)               5100      \n",
      "_________________________________________________________________\n",
      "dropout_22 (Dropout)         (None, 100)               0         \n",
      "_________________________________________________________________\n",
      "dense_60 (Dense)             (None, 1)                 101       \n",
      "=================================================================\n",
      "Total params: 83,901\n",
      "Trainable params: 83,901\n",
      "Non-trainable params: 0\n",
      "_________________________________________________________________\n"
     ]
    }
   ],
   "source": [
    "from tensorflow.keras.models import Sequential \n",
    "from tensorflow.keras import initializers, regularizers\n",
    "from tensorflow.keras import layers\n",
    "embedding_dim = 50\n",
    "model = Sequential() \n",
    "model.add(layers.Embedding(input_dim=vocab_size,\n",
    "output_dim=embedding_dim,\n",
    "input_length=maxlen)) \n",
    "model.add(layers.GlobalMaxPool1D())\n",
    "model.add(layers.Dense(100,kernel_initializer='normal',kernel_regularizer=regularizers.l2(.8), activation='relu'))\n",
    "model.add(layers.Dropout(.7))\n",
    "model.add(layers.Dense(1, activation='sigmoid'))\n",
    "model.compile(optimizer='adam', loss='binary_crossentropy', metrics=['accuracy'])\n",
    "model.summary()\n"
   ]
  },
  {
   "cell_type": "code",
   "execution_count": 194,
   "metadata": {
    "colab": {
     "base_uri": "https://localhost:8080/",
     "height": 1000
    },
    "colab_type": "code",
    "id": "EeU-xDoPMQkT",
    "outputId": "cad848a9-b2d1-4431-dc37-96bce4e0ea85"
   },
   "outputs": [
    {
     "name": "stdout",
     "output_type": "stream",
     "text": [
      "Epoch 1/50\n",
      "60/60 [==============================] - 0s 6ms/step - loss: 4.9704 - accuracy: 0.4950 - val_loss: 1.9724 - val_accuracy: 0.5067\n",
      "Epoch 2/50\n",
      "60/60 [==============================] - 0s 4ms/step - loss: 1.2616 - accuracy: 0.5250 - val_loss: 0.8737 - val_accuracy: 0.4933\n",
      "Epoch 3/50\n",
      "60/60 [==============================] - 0s 4ms/step - loss: 0.7739 - accuracy: 0.4983 - val_loss: 0.7186 - val_accuracy: 0.4933\n",
      "Epoch 4/50\n",
      "60/60 [==============================] - 0s 5ms/step - loss: 0.7046 - accuracy: 0.5150 - val_loss: 0.6967 - val_accuracy: 0.4933\n",
      "Epoch 5/50\n",
      "60/60 [==============================] - 0s 5ms/step - loss: 0.6949 - accuracy: 0.4933 - val_loss: 0.6938 - val_accuracy: 0.6267\n",
      "Epoch 6/50\n",
      "60/60 [==============================] - 0s 5ms/step - loss: 0.6937 - accuracy: 0.5000 - val_loss: 0.6934 - val_accuracy: 0.4933\n",
      "Epoch 7/50\n",
      "60/60 [==============================] - 0s 4ms/step - loss: 0.6932 - accuracy: 0.5083 - val_loss: 0.6935 - val_accuracy: 0.5733\n",
      "Epoch 8/50\n",
      "60/60 [==============================] - 0s 5ms/step - loss: 0.6933 - accuracy: 0.5117 - val_loss: 0.6936 - val_accuracy: 0.4933\n",
      "Epoch 9/50\n",
      "60/60 [==============================] - 0s 4ms/step - loss: 0.6931 - accuracy: 0.5283 - val_loss: 0.6935 - val_accuracy: 0.4933\n",
      "Epoch 10/50\n",
      "60/60 [==============================] - 0s 4ms/step - loss: 0.6931 - accuracy: 0.5233 - val_loss: 0.6935 - val_accuracy: 0.5000\n",
      "Epoch 11/50\n",
      "60/60 [==============================] - 0s 4ms/step - loss: 0.6909 - accuracy: 0.5800 - val_loss: 0.6932 - val_accuracy: 0.4933\n",
      "Epoch 12/50\n",
      "60/60 [==============================] - 0s 4ms/step - loss: 0.6934 - accuracy: 0.5383 - val_loss: 0.6935 - val_accuracy: 0.5800\n",
      "Epoch 13/50\n",
      "60/60 [==============================] - 0s 4ms/step - loss: 0.6920 - accuracy: 0.5650 - val_loss: 0.6931 - val_accuracy: 0.6333\n",
      "Epoch 14/50\n",
      "60/60 [==============================] - 0s 4ms/step - loss: 0.6901 - accuracy: 0.5833 - val_loss: 0.6929 - val_accuracy: 0.6600\n",
      "Epoch 15/50\n",
      "60/60 [==============================] - 0s 5ms/step - loss: 0.6877 - accuracy: 0.6433 - val_loss: 0.6911 - val_accuracy: 0.7000\n",
      "Epoch 16/50\n",
      "60/60 [==============================] - 0s 5ms/step - loss: 0.6842 - accuracy: 0.6867 - val_loss: 0.6891 - val_accuracy: 0.7267\n",
      "Epoch 17/50\n",
      "60/60 [==============================] - 0s 4ms/step - loss: 0.6744 - accuracy: 0.7483 - val_loss: 0.6830 - val_accuracy: 0.7400\n",
      "Epoch 18/50\n",
      "60/60 [==============================] - 0s 5ms/step - loss: 0.6550 - accuracy: 0.8167 - val_loss: 0.6733 - val_accuracy: 0.7533\n",
      "Epoch 19/50\n",
      "60/60 [==============================] - 0s 4ms/step - loss: 0.6372 - accuracy: 0.8183 - val_loss: 0.6640 - val_accuracy: 0.7933\n",
      "Epoch 20/50\n",
      "60/60 [==============================] - 0s 4ms/step - loss: 0.6048 - accuracy: 0.8567 - val_loss: 0.6452 - val_accuracy: 0.7667\n",
      "Epoch 21/50\n",
      "60/60 [==============================] - 0s 4ms/step - loss: 0.5634 - accuracy: 0.8800 - val_loss: 0.6302 - val_accuracy: 0.7933\n",
      "Epoch 22/50\n",
      "60/60 [==============================] - 0s 4ms/step - loss: 0.5281 - accuracy: 0.9067 - val_loss: 0.6102 - val_accuracy: 0.7867\n",
      "Epoch 23/50\n",
      "60/60 [==============================] - 0s 5ms/step - loss: 0.5099 - accuracy: 0.8950 - val_loss: 0.5966 - val_accuracy: 0.7867\n",
      "Epoch 24/50\n",
      "60/60 [==============================] - 0s 4ms/step - loss: 0.4839 - accuracy: 0.9133 - val_loss: 0.5816 - val_accuracy: 0.7933\n",
      "Epoch 25/50\n",
      "60/60 [==============================] - 0s 4ms/step - loss: 0.4538 - accuracy: 0.9367 - val_loss: 0.5744 - val_accuracy: 0.8067\n",
      "Epoch 26/50\n",
      "60/60 [==============================] - 0s 5ms/step - loss: 0.4343 - accuracy: 0.9400 - val_loss: 0.5739 - val_accuracy: 0.7933\n",
      "Epoch 27/50\n",
      "60/60 [==============================] - 0s 4ms/step - loss: 0.4106 - accuracy: 0.9333 - val_loss: 0.5527 - val_accuracy: 0.8067\n",
      "Epoch 28/50\n",
      "60/60 [==============================] - 0s 4ms/step - loss: 0.3824 - accuracy: 0.9417 - val_loss: 0.5474 - val_accuracy: 0.8067\n",
      "Epoch 29/50\n",
      "60/60 [==============================] - 0s 4ms/step - loss: 0.3767 - accuracy: 0.9300 - val_loss: 0.5289 - val_accuracy: 0.8200\n",
      "Epoch 30/50\n",
      "60/60 [==============================] - 0s 4ms/step - loss: 0.3574 - accuracy: 0.9383 - val_loss: 0.5268 - val_accuracy: 0.8133\n",
      "Epoch 31/50\n",
      "60/60 [==============================] - 0s 4ms/step - loss: 0.3430 - accuracy: 0.9483 - val_loss: 0.5164 - val_accuracy: 0.8133\n",
      "Epoch 32/50\n",
      "60/60 [==============================] - 0s 4ms/step - loss: 0.3247 - accuracy: 0.9500 - val_loss: 0.5105 - val_accuracy: 0.8333\n",
      "Epoch 33/50\n",
      "60/60 [==============================] - 0s 4ms/step - loss: 0.3259 - accuracy: 0.9417 - val_loss: 0.5081 - val_accuracy: 0.8267\n",
      "Epoch 34/50\n",
      "60/60 [==============================] - 0s 5ms/step - loss: 0.3101 - accuracy: 0.9400 - val_loss: 0.5285 - val_accuracy: 0.7933\n",
      "Epoch 35/50\n",
      "60/60 [==============================] - 0s 4ms/step - loss: 0.3069 - accuracy: 0.9533 - val_loss: 0.5053 - val_accuracy: 0.8333\n",
      "Epoch 36/50\n",
      "60/60 [==============================] - 0s 4ms/step - loss: 0.2859 - accuracy: 0.9633 - val_loss: 0.4925 - val_accuracy: 0.8200\n",
      "Epoch 37/50\n",
      "60/60 [==============================] - 0s 5ms/step - loss: 0.3027 - accuracy: 0.9467 - val_loss: 0.4937 - val_accuracy: 0.8267\n",
      "Epoch 38/50\n",
      "60/60 [==============================] - 0s 5ms/step - loss: 0.2824 - accuracy: 0.9633 - val_loss: 0.4873 - val_accuracy: 0.8267\n",
      "Epoch 39/50\n",
      "60/60 [==============================] - 0s 5ms/step - loss: 0.2764 - accuracy: 0.9583 - val_loss: 0.5030 - val_accuracy: 0.8000\n",
      "Epoch 40/50\n",
      "60/60 [==============================] - 0s 4ms/step - loss: 0.2567 - accuracy: 0.9683 - val_loss: 0.4785 - val_accuracy: 0.8267\n",
      "Epoch 41/50\n",
      "60/60 [==============================] - 0s 5ms/step - loss: 0.2494 - accuracy: 0.9617 - val_loss: 0.4829 - val_accuracy: 0.8067\n",
      "Epoch 42/50\n",
      "60/60 [==============================] - 0s 4ms/step - loss: 0.2712 - accuracy: 0.9533 - val_loss: 0.4801 - val_accuracy: 0.8200\n",
      "Epoch 43/50\n",
      "60/60 [==============================] - 0s 4ms/step - loss: 0.2359 - accuracy: 0.9667 - val_loss: 0.4754 - val_accuracy: 0.8200\n",
      "Epoch 44/50\n",
      "60/60 [==============================] - 0s 4ms/step - loss: 0.2300 - accuracy: 0.9667 - val_loss: 0.4621 - val_accuracy: 0.8200\n",
      "Epoch 45/50\n",
      "60/60 [==============================] - 0s 4ms/step - loss: 0.2388 - accuracy: 0.9633 - val_loss: 0.4672 - val_accuracy: 0.8267\n",
      "Epoch 46/50\n",
      "60/60 [==============================] - 0s 4ms/step - loss: 0.2254 - accuracy: 0.9600 - val_loss: 0.4730 - val_accuracy: 0.8200\n",
      "Epoch 47/50\n",
      "60/60 [==============================] - 0s 4ms/step - loss: 0.2341 - accuracy: 0.9600 - val_loss: 0.4591 - val_accuracy: 0.8200\n",
      "Epoch 48/50\n",
      "60/60 [==============================] - 0s 4ms/step - loss: 0.2157 - accuracy: 0.9633 - val_loss: 0.4785 - val_accuracy: 0.8267\n",
      "Epoch 49/50\n",
      "60/60 [==============================] - 0s 4ms/step - loss: 0.2185 - accuracy: 0.9700 - val_loss: 0.4640 - val_accuracy: 0.8200\n",
      "Epoch 50/50\n",
      "60/60 [==============================] - 0s 4ms/step - loss: 0.2001 - accuracy: 0.9717 - val_loss: 0.4514 - val_accuracy: 0.8200\n",
      "Accuracy=  80.0000011920929 %\n"
     ]
    }
   ],
   "source": [
    "hist = model.fit(X_train, y_train, epochs=50,validation_split=0.2,batch_size=10)\n",
    "loss, accuracy = model.evaluate(X_test, y_test, verbose=False,)\n",
    "print(\"Accuracy= \",accuracy*100, '%')"
   ]
  },
  {
   "cell_type": "code",
   "execution_count": 195,
   "metadata": {
    "colab": {
     "base_uri": "https://localhost:8080/",
     "height": 716
    },
    "colab_type": "code",
    "id": "Cn0Jl-CKMWXQ",
    "outputId": "256835d3-52f8-4815-e424-b6dbe906a407"
   },
   "outputs": [
    {
     "name": "stderr",
     "output_type": "stream",
     "text": [
      "/usr/local/lib/python3.6/dist-packages/ipykernel_launcher.py:8: MatplotlibDeprecationWarning: Unrecognized location 'lower write'. Falling back on 'best'; valid locations are\n",
      "\tbest\n",
      "\tupper right\n",
      "\tupper left\n",
      "\tlower left\n",
      "\tlower right\n",
      "\tright\n",
      "\tcenter left\n",
      "\tcenter right\n",
      "\tlower center\n",
      "\tupper center\n",
      "\tcenter\n",
      "This will raise an exception in 3.3.\n",
      "  \n"
     ]
    },
    {
     "data": {
      "image/png": "[encoded data removed]",
      "text/plain": [
       "<Figure size 720x504 with 2 Axes>"
      ]
     },
     "metadata": {
      "needs_background": "light",
      "tags": []
     },
     "output_type": "display_data"
    }
   ],
   "source": [
    "import matplotlib.pyplot as plt\n",
    "plt.figure(figsize=(10,7))\n",
    "plt.subplot(2,1,1)\n",
    "plt.plot(hist.history['accuracy'])\n",
    "plt.plot(hist.history['val_accuracy'])\n",
    "plt.xlabel('epochs')\n",
    "plt.ylabel('accuracy')\n",
    "plt.legend(['train','validation'], loc='lower write')\n",
    "plt.title('model accuracy')\n",
    "\n",
    "plt.subplot(2,1,2)\n",
    "plt.plot(hist.history['loss'])\n",
    "plt.plot(hist.history['val_loss'])\n",
    "plt.title('model loss')\n",
    "plt.ylabel('loss')\n",
    "plt.xlabel('epochs')\n",
    "plt.legend(['train', 'validation'], loc='upper right')\n",
    "plt.show()"
   ]
  },
  {
   "cell_type": "markdown",
   "metadata": {
    "colab_type": "text",
    "id": "b3HOH63krCaz"
   },
   "source": []
  },
  {
   "cell_type": "markdown",
   "metadata": {
    "colab_type": "text",
    "id": "DIEsY9aslOJx"
   },
   "source": [
    "This learning curve is not very good but it's way better than the previous one. "
   ]
  }
 ],
 "metadata": {
  "accelerator": "GPU",
  "colab": {
   "collapsed_sections": [],
   "name": "Lab2.ipynb",
   "provenance": []
  },
  "kernelspec": {
   "display_name": "Python 3",
   "language": "python",
   "name": "python3"
  },
  "language_info": {
   "codemirror_mode": {
    "name": "ipython",
    "version": 3
   },
   "file_extension": ".py",
   "mimetype": "text/x-python",
   "name": "python",
   "nbconvert_exporter": "python",
   "pygments_lexer": "ipython3",
   "version": "3.7.6"
  }
 },
 "nbformat": 4,
 "nbformat_minor": 1
}
