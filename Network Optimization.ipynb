{
 "cells": [
  {
   "cell_type": "markdown",
   "metadata": {},
   "source": [
    "# Finding the shortest path between different routes: Case study of US airlines"
   ]
  },
  {
   "cell_type": "markdown",
   "metadata": {},
   "source": [
    "The dataset can be found here https://github.com/kaharbawa35/BawaTech"
   ]
  },
  {
   "cell_type": "code",
   "execution_count": 127,
   "metadata": {},
   "outputs": [
    {
     "data": {
      "text/html": [
       "<div>\n",
       "<style scoped>\n",
       "    .dataframe tbody tr th:only-of-type {\n",
       "        vertical-align: middle;\n",
       "    }\n",
       "\n",
       "    .dataframe tbody tr th {\n",
       "        vertical-align: top;\n",
       "    }\n",
       "\n",
       "    .dataframe thead th {\n",
       "        text-align: right;\n",
       "    }\n",
       "</style>\n",
       "<table border=\"1\" class=\"dataframe\">\n",
       "  <thead>\n",
       "    <tr style=\"text-align: right;\">\n",
       "      <th></th>\n",
       "      <th>year</th>\n",
       "      <th>month</th>\n",
       "      <th>day</th>\n",
       "      <th>dep_time</th>\n",
       "      <th>sched_dep_time</th>\n",
       "      <th>dep_delay</th>\n",
       "      <th>arr_time</th>\n",
       "      <th>sched_arr_time</th>\n",
       "      <th>arr_delay</th>\n",
       "      <th>carrier</th>\n",
       "      <th>flight</th>\n",
       "      <th>tailnum</th>\n",
       "      <th>origin</th>\n",
       "      <th>dest</th>\n",
       "      <th>air_time</th>\n",
       "      <th>distance</th>\n",
       "    </tr>\n",
       "  </thead>\n",
       "  <tbody>\n",
       "    <tr>\n",
       "      <th>0</th>\n",
       "      <td>2013</td>\n",
       "      <td>2</td>\n",
       "      <td>26</td>\n",
       "      <td>1807.0</td>\n",
       "      <td>1630</td>\n",
       "      <td>97.0</td>\n",
       "      <td>1956.0</td>\n",
       "      <td>1837</td>\n",
       "      <td>79.0</td>\n",
       "      <td>EV</td>\n",
       "      <td>4411</td>\n",
       "      <td>N13566</td>\n",
       "      <td>EWR</td>\n",
       "      <td>MEM</td>\n",
       "      <td>144.0</td>\n",
       "      <td>946</td>\n",
       "    </tr>\n",
       "    <tr>\n",
       "      <th>1</th>\n",
       "      <td>2013</td>\n",
       "      <td>8</td>\n",
       "      <td>17</td>\n",
       "      <td>1459.0</td>\n",
       "      <td>1445</td>\n",
       "      <td>14.0</td>\n",
       "      <td>1801.0</td>\n",
       "      <td>1747</td>\n",
       "      <td>14.0</td>\n",
       "      <td>B6</td>\n",
       "      <td>1171</td>\n",
       "      <td>N661JB</td>\n",
       "      <td>LGA</td>\n",
       "      <td>FLL</td>\n",
       "      <td>147.0</td>\n",
       "      <td>1076</td>\n",
       "    </tr>\n",
       "    <tr>\n",
       "      <th>2</th>\n",
       "      <td>2013</td>\n",
       "      <td>2</td>\n",
       "      <td>13</td>\n",
       "      <td>1812.0</td>\n",
       "      <td>1815</td>\n",
       "      <td>-3.0</td>\n",
       "      <td>2055.0</td>\n",
       "      <td>2125</td>\n",
       "      <td>-30.0</td>\n",
       "      <td>AS</td>\n",
       "      <td>7</td>\n",
       "      <td>N403AS</td>\n",
       "      <td>EWR</td>\n",
       "      <td>SEA</td>\n",
       "      <td>315.0</td>\n",
       "      <td>2402</td>\n",
       "    </tr>\n",
       "    <tr>\n",
       "      <th>3</th>\n",
       "      <td>2013</td>\n",
       "      <td>4</td>\n",
       "      <td>11</td>\n",
       "      <td>2122.0</td>\n",
       "      <td>2115</td>\n",
       "      <td>7.0</td>\n",
       "      <td>2339.0</td>\n",
       "      <td>2353</td>\n",
       "      <td>-14.0</td>\n",
       "      <td>B6</td>\n",
       "      <td>97</td>\n",
       "      <td>N656JB</td>\n",
       "      <td>JFK</td>\n",
       "      <td>DEN</td>\n",
       "      <td>221.0</td>\n",
       "      <td>1626</td>\n",
       "    </tr>\n",
       "    <tr>\n",
       "      <th>4</th>\n",
       "      <td>2013</td>\n",
       "      <td>8</td>\n",
       "      <td>5</td>\n",
       "      <td>1832.0</td>\n",
       "      <td>1835</td>\n",
       "      <td>-3.0</td>\n",
       "      <td>2145.0</td>\n",
       "      <td>2155</td>\n",
       "      <td>-10.0</td>\n",
       "      <td>AA</td>\n",
       "      <td>269</td>\n",
       "      <td>N3EYAA</td>\n",
       "      <td>JFK</td>\n",
       "      <td>SEA</td>\n",
       "      <td>358.0</td>\n",
       "      <td>2422</td>\n",
       "    </tr>\n",
       "  </tbody>\n",
       "</table>\n",
       "</div>"
      ],
      "text/plain": [
       "   year  month  day  dep_time  sched_dep_time  dep_delay  arr_time  \\\n",
       "0  2013      2   26    1807.0            1630       97.0    1956.0   \n",
       "1  2013      8   17    1459.0            1445       14.0    1801.0   \n",
       "2  2013      2   13    1812.0            1815       -3.0    2055.0   \n",
       "3  2013      4   11    2122.0            2115        7.0    2339.0   \n",
       "4  2013      8    5    1832.0            1835       -3.0    2145.0   \n",
       "\n",
       "   sched_arr_time  arr_delay carrier  flight tailnum origin dest  air_time  \\\n",
       "0            1837       79.0      EV    4411  N13566    EWR  MEM     144.0   \n",
       "1            1747       14.0      B6    1171  N661JB    LGA  FLL     147.0   \n",
       "2            2125      -30.0      AS       7  N403AS    EWR  SEA     315.0   \n",
       "3            2353      -14.0      B6      97  N656JB    JFK  DEN     221.0   \n",
       "4            2155      -10.0      AA     269  N3EYAA    JFK  SEA     358.0   \n",
       "\n",
       "   distance  \n",
       "0       946  \n",
       "1      1076  \n",
       "2      2402  \n",
       "3      1626  \n",
       "4      2422  "
      ]
     },
     "execution_count": 127,
     "metadata": {},
     "output_type": "execute_result"
    }
   ],
   "source": [
    "import pandas as pd\n",
    "import numpy \n",
    "data=pd.read_csv(\"airlines_network_optimization.csv\")\n",
    "data.head()"
   ]
  },
  {
   "cell_type": "code",
   "execution_count": 128,
   "metadata": {},
   "outputs": [
    {
     "name": "stdout",
     "output_type": "stream",
     "text": [
      "<class 'pandas.core.frame.DataFrame'>\n",
      "RangeIndex: 100 entries, 0 to 99\n",
      "Data columns (total 16 columns):\n",
      " #   Column          Non-Null Count  Dtype  \n",
      "---  ------          --------------  -----  \n",
      " 0   year            100 non-null    int64  \n",
      " 1   month           100 non-null    int64  \n",
      " 2   day             100 non-null    int64  \n",
      " 3   dep_time        99 non-null     float64\n",
      " 4   sched_dep_time  100 non-null    int64  \n",
      " 5   dep_delay       99 non-null     float64\n",
      " 6   arr_time        99 non-null     float64\n",
      " 7   sched_arr_time  100 non-null    int64  \n",
      " 8   arr_delay       99 non-null     float64\n",
      " 9   carrier         100 non-null    object \n",
      " 10  flight          100 non-null    int64  \n",
      " 11  tailnum         100 non-null    object \n",
      " 12  origin          100 non-null    object \n",
      " 13  dest            100 non-null    object \n",
      " 14  air_time        99 non-null     float64\n",
      " 15  distance        100 non-null    int64  \n",
      "dtypes: float64(5), int64(7), object(4)\n",
      "memory usage: 12.6+ KB\n"
     ]
    }
   ],
   "source": [
    "data.info()"
   ]
  },
  {
   "cell_type": "code",
   "execution_count": 129,
   "metadata": {},
   "outputs": [
    {
     "data": {
      "text/plain": [
       "year              0\n",
       "month             0\n",
       "day               0\n",
       "dep_time          1\n",
       "sched_dep_time    0\n",
       "dep_delay         1\n",
       "arr_time          1\n",
       "sched_arr_time    0\n",
       "arr_delay         1\n",
       "carrier           0\n",
       "flight            0\n",
       "tailnum           0\n",
       "origin            0\n",
       "dest              0\n",
       "air_time          1\n",
       "distance          0\n",
       "dtype: int64"
      ]
     },
     "execution_count": 129,
     "metadata": {},
     "output_type": "execute_result"
    }
   ],
   "source": [
    "# We have 1 missing value in the following features:\n",
    "data.isna().sum()"
   ]
  },
  {
   "cell_type": "markdown",
   "metadata": {},
   "source": [
    "# Feature engineering"
   ]
  },
  {
   "cell_type": "code",
   "execution_count": 130,
   "metadata": {},
   "outputs": [],
   "source": [
    "# converting sched_dep_time to 'std' - Scheduled time of departure\n",
    "import warnings\n",
    "warnings.filterwarnings('ignore')\n",
    "data['std'] = data.sched_dep_time.astype(str).str.replace('(\\d{2}$)', '') + ':' + data.sched_dep_time.astype(str).str.extract('(\\d{2}$)', expand=False) + ':00'\n",
    "# converting sched_arr_time to 'sta' - Scheduled time of arrival\n",
    "data['sta'] = data.sched_arr_time.astype(str).str.replace('(\\d{2}$)', '') + ':' + data.sched_arr_time.astype(str).str.extract('(\\d{2}$)', expand=False) + ':00'"
   ]
  },
  {
   "cell_type": "code",
   "execution_count": 131,
   "metadata": {},
   "outputs": [],
   "source": [
    "# converting dep_time to 'atd' - Actual time of departure and replacing the missing values with zero (0)\n",
    "import warnings\n",
    "warnings.filterwarnings('ignore')\n",
    "data['atd'] = data.dep_time.fillna(0).astype(np.int64).astype(str).str.replace('(\\d{2}$)', '') + ':' + data.dep_time.fillna(0).astype(np.int64).astype(str).str.extract('(\\d{2}$)', expand=False) + ':00'\n",
    "# converting arr_time to 'ata' - Actual time of arrival and replacing the missing values with zero (0)\n",
    "data['ata'] = data.arr_time.fillna(0).astype(np.int64).astype(str).str.replace('(\\d{2}$)', '') + ':' + data.arr_time.fillna(0).astype(np.int64).astype(str).str.extract('(\\d{2}$)', expand=False) + ':00'\n"
   ]
  },
  {
   "cell_type": "code",
   "execution_count": 132,
   "metadata": {},
   "outputs": [
    {
     "data": {
      "text/html": [
       "<div>\n",
       "<style scoped>\n",
       "    .dataframe tbody tr th:only-of-type {\n",
       "        vertical-align: middle;\n",
       "    }\n",
       "\n",
       "    .dataframe tbody tr th {\n",
       "        vertical-align: top;\n",
       "    }\n",
       "\n",
       "    .dataframe thead th {\n",
       "        text-align: right;\n",
       "    }\n",
       "</style>\n",
       "<table border=\"1\" class=\"dataframe\">\n",
       "  <thead>\n",
       "    <tr style=\"text-align: right;\">\n",
       "      <th></th>\n",
       "      <th>year</th>\n",
       "      <th>month</th>\n",
       "      <th>day</th>\n",
       "      <th>dep_time</th>\n",
       "      <th>sched_dep_time</th>\n",
       "      <th>dep_delay</th>\n",
       "      <th>arr_time</th>\n",
       "      <th>sched_arr_time</th>\n",
       "      <th>arr_delay</th>\n",
       "      <th>carrier</th>\n",
       "      <th>flight</th>\n",
       "      <th>tailnum</th>\n",
       "      <th>origin</th>\n",
       "      <th>dest</th>\n",
       "      <th>air_time</th>\n",
       "      <th>distance</th>\n",
       "      <th>std</th>\n",
       "      <th>sta</th>\n",
       "      <th>atd</th>\n",
       "      <th>ata</th>\n",
       "    </tr>\n",
       "  </thead>\n",
       "  <tbody>\n",
       "    <tr>\n",
       "      <th>95</th>\n",
       "      <td>2013</td>\n",
       "      <td>11</td>\n",
       "      <td>29</td>\n",
       "      <td>1129.0</td>\n",
       "      <td>1135</td>\n",
       "      <td>-6.0</td>\n",
       "      <td>1414.0</td>\n",
       "      <td>1436</td>\n",
       "      <td>-22.0</td>\n",
       "      <td>DL</td>\n",
       "      <td>1875</td>\n",
       "      <td>N342NB</td>\n",
       "      <td>LGA</td>\n",
       "      <td>TPA</td>\n",
       "      <td>147.0</td>\n",
       "      <td>1010</td>\n",
       "      <td>11:35:00</td>\n",
       "      <td>14:36:00</td>\n",
       "      <td>11:29:00</td>\n",
       "      <td>14:14:00</td>\n",
       "    </tr>\n",
       "    <tr>\n",
       "      <th>96</th>\n",
       "      <td>2013</td>\n",
       "      <td>3</td>\n",
       "      <td>10</td>\n",
       "      <td>1029.0</td>\n",
       "      <td>1029</td>\n",
       "      <td>0.0</td>\n",
       "      <td>1300.0</td>\n",
       "      <td>1344</td>\n",
       "      <td>-44.0</td>\n",
       "      <td>UA</td>\n",
       "      <td>1605</td>\n",
       "      <td>N37465</td>\n",
       "      <td>EWR</td>\n",
       "      <td>LAX</td>\n",
       "      <td>308.0</td>\n",
       "      <td>2454</td>\n",
       "      <td>10:29:00</td>\n",
       "      <td>13:44:00</td>\n",
       "      <td>10:29:00</td>\n",
       "      <td>13:00:00</td>\n",
       "    </tr>\n",
       "    <tr>\n",
       "      <th>97</th>\n",
       "      <td>2013</td>\n",
       "      <td>11</td>\n",
       "      <td>25</td>\n",
       "      <td>1724.0</td>\n",
       "      <td>1725</td>\n",
       "      <td>-1.0</td>\n",
       "      <td>1828.0</td>\n",
       "      <td>1845</td>\n",
       "      <td>-17.0</td>\n",
       "      <td>AA</td>\n",
       "      <td>256</td>\n",
       "      <td>N3CTAA</td>\n",
       "      <td>JFK</td>\n",
       "      <td>BOS</td>\n",
       "      <td>40.0</td>\n",
       "      <td>187</td>\n",
       "      <td>17:25:00</td>\n",
       "      <td>18:45:00</td>\n",
       "      <td>17:24:00</td>\n",
       "      <td>18:28:00</td>\n",
       "    </tr>\n",
       "    <tr>\n",
       "      <th>98</th>\n",
       "      <td>2013</td>\n",
       "      <td>3</td>\n",
       "      <td>5</td>\n",
       "      <td>930.0</td>\n",
       "      <td>929</td>\n",
       "      <td>1.0</td>\n",
       "      <td>1421.0</td>\n",
       "      <td>1426</td>\n",
       "      <td>-5.0</td>\n",
       "      <td>B6</td>\n",
       "      <td>215</td>\n",
       "      <td>N638JB</td>\n",
       "      <td>EWR</td>\n",
       "      <td>SJU</td>\n",
       "      <td>200.0</td>\n",
       "      <td>1608</td>\n",
       "      <td>9:29:00</td>\n",
       "      <td>14:26:00</td>\n",
       "      <td>9:30:00</td>\n",
       "      <td>14:21:00</td>\n",
       "    </tr>\n",
       "    <tr>\n",
       "      <th>99</th>\n",
       "      <td>2013</td>\n",
       "      <td>5</td>\n",
       "      <td>21</td>\n",
       "      <td>626.0</td>\n",
       "      <td>630</td>\n",
       "      <td>-4.0</td>\n",
       "      <td>858.0</td>\n",
       "      <td>918</td>\n",
       "      <td>-20.0</td>\n",
       "      <td>UA</td>\n",
       "      <td>490</td>\n",
       "      <td>N447UA</td>\n",
       "      <td>LGA</td>\n",
       "      <td>IAH</td>\n",
       "      <td>189.0</td>\n",
       "      <td>1416</td>\n",
       "      <td>6:30:00</td>\n",
       "      <td>9:18:00</td>\n",
       "      <td>6:26:00</td>\n",
       "      <td>8:58:00</td>\n",
       "    </tr>\n",
       "  </tbody>\n",
       "</table>\n",
       "</div>"
      ],
      "text/plain": [
       "    year  month  day  dep_time  sched_dep_time  dep_delay  arr_time  \\\n",
       "95  2013     11   29    1129.0            1135       -6.0    1414.0   \n",
       "96  2013      3   10    1029.0            1029        0.0    1300.0   \n",
       "97  2013     11   25    1724.0            1725       -1.0    1828.0   \n",
       "98  2013      3    5     930.0             929        1.0    1421.0   \n",
       "99  2013      5   21     626.0             630       -4.0     858.0   \n",
       "\n",
       "    sched_arr_time  arr_delay carrier  flight tailnum origin dest  air_time  \\\n",
       "95            1436      -22.0      DL    1875  N342NB    LGA  TPA     147.0   \n",
       "96            1344      -44.0      UA    1605  N37465    EWR  LAX     308.0   \n",
       "97            1845      -17.0      AA     256  N3CTAA    JFK  BOS      40.0   \n",
       "98            1426       -5.0      B6     215  N638JB    EWR  SJU     200.0   \n",
       "99             918      -20.0      UA     490  N447UA    LGA  IAH     189.0   \n",
       "\n",
       "    distance       std       sta       atd       ata  \n",
       "95      1010  11:35:00  14:36:00  11:29:00  14:14:00  \n",
       "96      2454  10:29:00  13:44:00  10:29:00  13:00:00  \n",
       "97       187  17:25:00  18:45:00  17:24:00  18:28:00  \n",
       "98      1608   9:29:00  14:26:00   9:30:00  14:21:00  \n",
       "99      1416   6:30:00   9:18:00   6:26:00   8:58:00  "
      ]
     },
     "execution_count": 132,
     "metadata": {},
     "output_type": "execute_result"
    }
   ],
   "source": [
    "data.tail()"
   ]
  },
  {
   "cell_type": "code",
   "execution_count": 133,
   "metadata": {},
   "outputs": [],
   "source": [
    "# merging 'year', 'month', 'day' columns to 'date' column\n",
    "data['date'] = pd.to_datetime(data[['year', 'month', 'day']])\n",
    "\n",
    "# we drop the 'year', 'month', 'day' columns as we don't need them any more\n",
    "data = data.drop(columns = ['year', 'month', 'day'])"
   ]
  },
  {
   "cell_type": "code",
   "execution_count": 134,
   "metadata": {},
   "outputs": [
    {
     "data": {
      "text/html": [
       "<div>\n",
       "<style scoped>\n",
       "    .dataframe tbody tr th:only-of-type {\n",
       "        vertical-align: middle;\n",
       "    }\n",
       "\n",
       "    .dataframe tbody tr th {\n",
       "        vertical-align: top;\n",
       "    }\n",
       "\n",
       "    .dataframe thead th {\n",
       "        text-align: right;\n",
       "    }\n",
       "</style>\n",
       "<table border=\"1\" class=\"dataframe\">\n",
       "  <thead>\n",
       "    <tr style=\"text-align: right;\">\n",
       "      <th></th>\n",
       "      <th>dep_time</th>\n",
       "      <th>sched_dep_time</th>\n",
       "      <th>dep_delay</th>\n",
       "      <th>arr_time</th>\n",
       "      <th>sched_arr_time</th>\n",
       "      <th>arr_delay</th>\n",
       "      <th>carrier</th>\n",
       "      <th>flight</th>\n",
       "      <th>tailnum</th>\n",
       "      <th>origin</th>\n",
       "      <th>dest</th>\n",
       "      <th>air_time</th>\n",
       "      <th>distance</th>\n",
       "      <th>std</th>\n",
       "      <th>sta</th>\n",
       "      <th>atd</th>\n",
       "      <th>ata</th>\n",
       "      <th>date</th>\n",
       "    </tr>\n",
       "  </thead>\n",
       "  <tbody>\n",
       "    <tr>\n",
       "      <th>95</th>\n",
       "      <td>1129.0</td>\n",
       "      <td>1135</td>\n",
       "      <td>-6.0</td>\n",
       "      <td>1414.0</td>\n",
       "      <td>1436</td>\n",
       "      <td>-22.0</td>\n",
       "      <td>DL</td>\n",
       "      <td>1875</td>\n",
       "      <td>N342NB</td>\n",
       "      <td>LGA</td>\n",
       "      <td>TPA</td>\n",
       "      <td>147.0</td>\n",
       "      <td>1010</td>\n",
       "      <td>11:35:00</td>\n",
       "      <td>14:36:00</td>\n",
       "      <td>11:29:00</td>\n",
       "      <td>14:14:00</td>\n",
       "      <td>2013-11-29</td>\n",
       "    </tr>\n",
       "    <tr>\n",
       "      <th>96</th>\n",
       "      <td>1029.0</td>\n",
       "      <td>1029</td>\n",
       "      <td>0.0</td>\n",
       "      <td>1300.0</td>\n",
       "      <td>1344</td>\n",
       "      <td>-44.0</td>\n",
       "      <td>UA</td>\n",
       "      <td>1605</td>\n",
       "      <td>N37465</td>\n",
       "      <td>EWR</td>\n",
       "      <td>LAX</td>\n",
       "      <td>308.0</td>\n",
       "      <td>2454</td>\n",
       "      <td>10:29:00</td>\n",
       "      <td>13:44:00</td>\n",
       "      <td>10:29:00</td>\n",
       "      <td>13:00:00</td>\n",
       "      <td>2013-03-10</td>\n",
       "    </tr>\n",
       "    <tr>\n",
       "      <th>97</th>\n",
       "      <td>1724.0</td>\n",
       "      <td>1725</td>\n",
       "      <td>-1.0</td>\n",
       "      <td>1828.0</td>\n",
       "      <td>1845</td>\n",
       "      <td>-17.0</td>\n",
       "      <td>AA</td>\n",
       "      <td>256</td>\n",
       "      <td>N3CTAA</td>\n",
       "      <td>JFK</td>\n",
       "      <td>BOS</td>\n",
       "      <td>40.0</td>\n",
       "      <td>187</td>\n",
       "      <td>17:25:00</td>\n",
       "      <td>18:45:00</td>\n",
       "      <td>17:24:00</td>\n",
       "      <td>18:28:00</td>\n",
       "      <td>2013-11-25</td>\n",
       "    </tr>\n",
       "    <tr>\n",
       "      <th>98</th>\n",
       "      <td>930.0</td>\n",
       "      <td>929</td>\n",
       "      <td>1.0</td>\n",
       "      <td>1421.0</td>\n",
       "      <td>1426</td>\n",
       "      <td>-5.0</td>\n",
       "      <td>B6</td>\n",
       "      <td>215</td>\n",
       "      <td>N638JB</td>\n",
       "      <td>EWR</td>\n",
       "      <td>SJU</td>\n",
       "      <td>200.0</td>\n",
       "      <td>1608</td>\n",
       "      <td>9:29:00</td>\n",
       "      <td>14:26:00</td>\n",
       "      <td>9:30:00</td>\n",
       "      <td>14:21:00</td>\n",
       "      <td>2013-03-05</td>\n",
       "    </tr>\n",
       "    <tr>\n",
       "      <th>99</th>\n",
       "      <td>626.0</td>\n",
       "      <td>630</td>\n",
       "      <td>-4.0</td>\n",
       "      <td>858.0</td>\n",
       "      <td>918</td>\n",
       "      <td>-20.0</td>\n",
       "      <td>UA</td>\n",
       "      <td>490</td>\n",
       "      <td>N447UA</td>\n",
       "      <td>LGA</td>\n",
       "      <td>IAH</td>\n",
       "      <td>189.0</td>\n",
       "      <td>1416</td>\n",
       "      <td>6:30:00</td>\n",
       "      <td>9:18:00</td>\n",
       "      <td>6:26:00</td>\n",
       "      <td>8:58:00</td>\n",
       "      <td>2013-05-21</td>\n",
       "    </tr>\n",
       "  </tbody>\n",
       "</table>\n",
       "</div>"
      ],
      "text/plain": [
       "    dep_time  sched_dep_time  dep_delay  arr_time  sched_arr_time  arr_delay  \\\n",
       "95    1129.0            1135       -6.0    1414.0            1436      -22.0   \n",
       "96    1029.0            1029        0.0    1300.0            1344      -44.0   \n",
       "97    1724.0            1725       -1.0    1828.0            1845      -17.0   \n",
       "98     930.0             929        1.0    1421.0            1426       -5.0   \n",
       "99     626.0             630       -4.0     858.0             918      -20.0   \n",
       "\n",
       "   carrier  flight tailnum origin dest  air_time  distance       std  \\\n",
       "95      DL    1875  N342NB    LGA  TPA     147.0      1010  11:35:00   \n",
       "96      UA    1605  N37465    EWR  LAX     308.0      2454  10:29:00   \n",
       "97      AA     256  N3CTAA    JFK  BOS      40.0       187  17:25:00   \n",
       "98      B6     215  N638JB    EWR  SJU     200.0      1608   9:29:00   \n",
       "99      UA     490  N447UA    LGA  IAH     189.0      1416   6:30:00   \n",
       "\n",
       "         sta       atd       ata       date  \n",
       "95  14:36:00  11:29:00  14:14:00 2013-11-29  \n",
       "96  13:44:00  10:29:00  13:00:00 2013-03-10  \n",
       "97  18:45:00  17:24:00  18:28:00 2013-11-25  \n",
       "98  14:26:00   9:30:00  14:21:00 2013-03-05  \n",
       "99   9:18:00   6:26:00   8:58:00 2013-05-21  "
      ]
     },
     "execution_count": 134,
     "metadata": {},
     "output_type": "execute_result"
    }
   ],
   "source": [
    "data.tail()"
   ]
  },
  {
   "cell_type": "markdown",
   "metadata": {},
   "source": [
    "# Formulating the network to be optimized and creating edge list of all routes"
   ]
  },
  {
   "cell_type": "code",
   "execution_count": 135,
   "metadata": {},
   "outputs": [],
   "source": [
    "import networkx as nx\n",
    "Net = nx.from_pandas_edgelist(data, source='origin', target='dest', edge_attr=True,)"
   ]
  },
  {
   "cell_type": "markdown",
   "metadata": {},
   "source": [
    "# Ploting the network"
   ]
  },
  {
   "cell_type": "code",
   "execution_count": 136,
   "metadata": {},
   "outputs": [
    {
     "data": {
      "image/png": "[encoded data removed]",
      "text/plain": [
       "<Figure size 432x288 with 1 Axes>"
      ]
     },
     "metadata": {},
     "output_type": "display_data"
    }
   ],
   "source": [
    "Net.nodes()\n",
    "Net.edges()\n",
    "nx.draw_networkx(Net, with_labels=True,node_size=500, node_color='g') "
   ]
  },
  {
   "cell_type": "markdown",
   "metadata": {},
   "source": [
    "As expected we can see that we have 3 busy airports from this graph: JFK, LGA, EWR which by the way are our origin airports"
   ]
  },
  {
   "cell_type": "code",
   "execution_count": 137,
   "metadata": {},
   "outputs": [
    {
     "data": {
      "text/plain": [
       "{'EWR': 0.5714285714285714,\n",
       " 'MEM': 0.02857142857142857,\n",
       " 'LGA': 0.5714285714285714,\n",
       " 'FLL': 0.05714285714285714,\n",
       " 'SEA': 0.05714285714285714,\n",
       " 'JFK': 0.4857142857142857,\n",
       " 'DEN': 0.05714285714285714,\n",
       " 'ORD': 0.05714285714285714,\n",
       " 'MIA': 0.05714285714285714,\n",
       " 'PBI': 0.08571428571428572,\n",
       " 'MCO': 0.08571428571428572,\n",
       " 'CMH': 0.02857142857142857,\n",
       " 'MSP': 0.05714285714285714,\n",
       " 'IAD': 0.08571428571428572,\n",
       " 'CLT': 0.05714285714285714,\n",
       " 'TPA': 0.08571428571428572,\n",
       " 'DCA': 0.05714285714285714,\n",
       " 'SJU': 0.05714285714285714,\n",
       " 'ATL': 0.05714285714285714,\n",
       " 'BHM': 0.02857142857142857,\n",
       " 'SRQ': 0.02857142857142857,\n",
       " 'MSY': 0.02857142857142857,\n",
       " 'DTW': 0.05714285714285714,\n",
       " 'LAX': 0.05714285714285714,\n",
       " 'JAX': 0.02857142857142857,\n",
       " 'RDU': 0.05714285714285714,\n",
       " 'MDW': 0.02857142857142857,\n",
       " 'DFW': 0.02857142857142857,\n",
       " 'IAH': 0.05714285714285714,\n",
       " 'SFO': 0.02857142857142857,\n",
       " 'STL': 0.02857142857142857,\n",
       " 'CVG': 0.05714285714285714,\n",
       " 'IND': 0.02857142857142857,\n",
       " 'RSW': 0.02857142857142857,\n",
       " 'BOS': 0.05714285714285714,\n",
       " 'CLE': 0.02857142857142857}"
      ]
     },
     "execution_count": 137,
     "metadata": {},
     "output_type": "execute_result"
    }
   ],
   "source": [
    "nx.algorithms.degree_centrality(Net) # Notice the 3 airports from which all of our 100 rows of data originates"
   ]
  },
  {
   "cell_type": "code",
   "execution_count": 138,
   "metadata": {},
   "outputs": [
    {
     "data": {
      "text/plain": [
       "0.09047619047619047"
      ]
     },
     "execution_count": 138,
     "metadata": {},
     "output_type": "execute_result"
    }
   ],
   "source": [
    "nx.density(Net) # Average edge density of the Graphs"
   ]
  },
  {
   "cell_type": "code",
   "execution_count": 139,
   "metadata": {},
   "outputs": [
    {
     "data": {
      "text/plain": [
       "2.36984126984127"
      ]
     },
     "execution_count": 139,
     "metadata": {},
     "output_type": "execute_result"
    }
   ],
   "source": [
    "nx.average_shortest_path_length(Net) # Average shortest path length for ALL paths in the Graph"
   ]
  },
  {
   "cell_type": "code",
   "execution_count": 140,
   "metadata": {},
   "outputs": [
    {
     "data": {
      "text/plain": [
       "{20: 1.95, 1: 19.307692307692307, 2: 19.0625, 17: 2.0588235294117645, 3: 19.0}"
      ]
     },
     "execution_count": 140,
     "metadata": {},
     "output_type": "execute_result"
    }
   ],
   "source": [
    "nx.average_degree_connectivity(Net) # For a node of degree k - What is the average of its neighbours' degree?"
   ]
  },
  {
   "cell_type": "markdown",
   "metadata": {},
   "source": [
    "# Shortest path between JFK to DFW\n",
    "\n",
    "Let's first find all the possible paths available from 'JAX' to 'DFW'. Then calculates the \"dijkstra\" path from 'JAX' to 'DFW' which would be the shortest paths between the two airports. Dijkstra's algorithm is an algorithm for finding the shortest paths between nodes in a graph, which may represent, for example, road networks. And lastly I will find the dijkstra path from 'JAX' to 'DFW' by airtime."
   ]
  },
  {
   "cell_type": "code",
   "execution_count": 141,
   "metadata": {},
   "outputs": [
    {
     "name": "stdout",
     "output_type": "stream",
     "text": [
      "['JAX', 'JFK', 'DEN', 'LGA', 'ORD', 'EWR', 'DFW']\n",
      "['JAX', 'JFK', 'DEN', 'LGA', 'PBI', 'EWR', 'DFW']\n",
      "['JAX', 'JFK', 'DEN', 'LGA', 'IAD', 'EWR', 'DFW']\n",
      "['JAX', 'JFK', 'DEN', 'LGA', 'MIA', 'EWR', 'DFW']\n",
      "['JAX', 'JFK', 'DEN', 'LGA', 'RDU', 'EWR', 'DFW']\n",
      "['JAX', 'JFK', 'DEN', 'LGA', 'TPA', 'EWR', 'DFW']\n",
      "['JAX', 'JFK', 'DEN', 'LGA', 'MSP', 'EWR', 'DFW']\n",
      "['JAX', 'JFK', 'DEN', 'LGA', 'MCO', 'EWR', 'DFW']\n",
      "['JAX', 'JFK', 'DEN', 'LGA', 'CVG', 'EWR', 'DFW']\n",
      "['JAX', 'JFK', 'DEN', 'LGA', 'IAH', 'EWR', 'DFW']\n",
      "['JAX', 'JFK', 'SEA', 'EWR', 'DFW']\n",
      "['JAX', 'JFK', 'MCO', 'LGA', 'ORD', 'EWR', 'DFW']\n",
      "['JAX', 'JFK', 'MCO', 'LGA', 'PBI', 'EWR', 'DFW']\n",
      "['JAX', 'JFK', 'MCO', 'LGA', 'IAD', 'EWR', 'DFW']\n",
      "['JAX', 'JFK', 'MCO', 'LGA', 'MIA', 'EWR', 'DFW']\n",
      "['JAX', 'JFK', 'MCO', 'LGA', 'RDU', 'EWR', 'DFW']\n",
      "['JAX', 'JFK', 'MCO', 'LGA', 'TPA', 'EWR', 'DFW']\n",
      "['JAX', 'JFK', 'MCO', 'LGA', 'MSP', 'EWR', 'DFW']\n",
      "['JAX', 'JFK', 'MCO', 'LGA', 'CVG', 'EWR', 'DFW']\n",
      "['JAX', 'JFK', 'MCO', 'LGA', 'IAH', 'EWR', 'DFW']\n",
      "['JAX', 'JFK', 'MCO', 'EWR', 'DFW']\n",
      "['JAX', 'JFK', 'TPA', 'EWR', 'DFW']\n",
      "['JAX', 'JFK', 'TPA', 'LGA', 'ORD', 'EWR', 'DFW']\n",
      "['JAX', 'JFK', 'TPA', 'LGA', 'PBI', 'EWR', 'DFW']\n",
      "['JAX', 'JFK', 'TPA', 'LGA', 'IAD', 'EWR', 'DFW']\n",
      "['JAX', 'JFK', 'TPA', 'LGA', 'MIA', 'EWR', 'DFW']\n",
      "['JAX', 'JFK', 'TPA', 'LGA', 'RDU', 'EWR', 'DFW']\n",
      "['JAX', 'JFK', 'TPA', 'LGA', 'MSP', 'EWR', 'DFW']\n",
      "['JAX', 'JFK', 'TPA', 'LGA', 'MCO', 'EWR', 'DFW']\n",
      "['JAX', 'JFK', 'TPA', 'LGA', 'CVG', 'EWR', 'DFW']\n",
      "['JAX', 'JFK', 'TPA', 'LGA', 'IAH', 'EWR', 'DFW']\n",
      "['JAX', 'JFK', 'SJU', 'EWR', 'DFW']\n",
      "['JAX', 'JFK', 'ATL', 'LGA', 'ORD', 'EWR', 'DFW']\n",
      "['JAX', 'JFK', 'ATL', 'LGA', 'PBI', 'EWR', 'DFW']\n",
      "['JAX', 'JFK', 'ATL', 'LGA', 'IAD', 'EWR', 'DFW']\n",
      "['JAX', 'JFK', 'ATL', 'LGA', 'MIA', 'EWR', 'DFW']\n",
      "['JAX', 'JFK', 'ATL', 'LGA', 'RDU', 'EWR', 'DFW']\n",
      "['JAX', 'JFK', 'ATL', 'LGA', 'TPA', 'EWR', 'DFW']\n",
      "['JAX', 'JFK', 'ATL', 'LGA', 'MSP', 'EWR', 'DFW']\n",
      "['JAX', 'JFK', 'ATL', 'LGA', 'MCO', 'EWR', 'DFW']\n",
      "['JAX', 'JFK', 'ATL', 'LGA', 'CVG', 'EWR', 'DFW']\n",
      "['JAX', 'JFK', 'ATL', 'LGA', 'IAH', 'EWR', 'DFW']\n",
      "['JAX', 'JFK', 'DCA', 'LGA', 'ORD', 'EWR', 'DFW']\n",
      "['JAX', 'JFK', 'DCA', 'LGA', 'PBI', 'EWR', 'DFW']\n",
      "['JAX', 'JFK', 'DCA', 'LGA', 'IAD', 'EWR', 'DFW']\n",
      "['JAX', 'JFK', 'DCA', 'LGA', 'MIA', 'EWR', 'DFW']\n",
      "['JAX', 'JFK', 'DCA', 'LGA', 'RDU', 'EWR', 'DFW']\n",
      "['JAX', 'JFK', 'DCA', 'LGA', 'TPA', 'EWR', 'DFW']\n",
      "['JAX', 'JFK', 'DCA', 'LGA', 'MSP', 'EWR', 'DFW']\n",
      "['JAX', 'JFK', 'DCA', 'LGA', 'MCO', 'EWR', 'DFW']\n",
      "['JAX', 'JFK', 'DCA', 'LGA', 'CVG', 'EWR', 'DFW']\n",
      "['JAX', 'JFK', 'DCA', 'LGA', 'IAH', 'EWR', 'DFW']\n",
      "['JAX', 'JFK', 'DTW', 'LGA', 'ORD', 'EWR', 'DFW']\n",
      "['JAX', 'JFK', 'DTW', 'LGA', 'PBI', 'EWR', 'DFW']\n",
      "['JAX', 'JFK', 'DTW', 'LGA', 'IAD', 'EWR', 'DFW']\n",
      "['JAX', 'JFK', 'DTW', 'LGA', 'MIA', 'EWR', 'DFW']\n",
      "['JAX', 'JFK', 'DTW', 'LGA', 'RDU', 'EWR', 'DFW']\n",
      "['JAX', 'JFK', 'DTW', 'LGA', 'TPA', 'EWR', 'DFW']\n",
      "['JAX', 'JFK', 'DTW', 'LGA', 'MSP', 'EWR', 'DFW']\n",
      "['JAX', 'JFK', 'DTW', 'LGA', 'MCO', 'EWR', 'DFW']\n",
      "['JAX', 'JFK', 'DTW', 'LGA', 'CVG', 'EWR', 'DFW']\n",
      "['JAX', 'JFK', 'DTW', 'LGA', 'IAH', 'EWR', 'DFW']\n",
      "['JAX', 'JFK', 'LAX', 'EWR', 'DFW']\n",
      "['JAX', 'JFK', 'FLL', 'LGA', 'ORD', 'EWR', 'DFW']\n",
      "['JAX', 'JFK', 'FLL', 'LGA', 'PBI', 'EWR', 'DFW']\n",
      "['JAX', 'JFK', 'FLL', 'LGA', 'IAD', 'EWR', 'DFW']\n",
      "['JAX', 'JFK', 'FLL', 'LGA', 'MIA', 'EWR', 'DFW']\n",
      "['JAX', 'JFK', 'FLL', 'LGA', 'RDU', 'EWR', 'DFW']\n",
      "['JAX', 'JFK', 'FLL', 'LGA', 'TPA', 'EWR', 'DFW']\n",
      "['JAX', 'JFK', 'FLL', 'LGA', 'MSP', 'EWR', 'DFW']\n",
      "['JAX', 'JFK', 'FLL', 'LGA', 'MCO', 'EWR', 'DFW']\n",
      "['JAX', 'JFK', 'FLL', 'LGA', 'CVG', 'EWR', 'DFW']\n",
      "['JAX', 'JFK', 'FLL', 'LGA', 'IAH', 'EWR', 'DFW']\n",
      "['JAX', 'JFK', 'CLT', 'LGA', 'ORD', 'EWR', 'DFW']\n",
      "['JAX', 'JFK', 'CLT', 'LGA', 'PBI', 'EWR', 'DFW']\n",
      "['JAX', 'JFK', 'CLT', 'LGA', 'IAD', 'EWR', 'DFW']\n",
      "['JAX', 'JFK', 'CLT', 'LGA', 'MIA', 'EWR', 'DFW']\n",
      "['JAX', 'JFK', 'CLT', 'LGA', 'RDU', 'EWR', 'DFW']\n",
      "['JAX', 'JFK', 'CLT', 'LGA', 'TPA', 'EWR', 'DFW']\n",
      "['JAX', 'JFK', 'CLT', 'LGA', 'MSP', 'EWR', 'DFW']\n",
      "['JAX', 'JFK', 'CLT', 'LGA', 'MCO', 'EWR', 'DFW']\n",
      "['JAX', 'JFK', 'CLT', 'LGA', 'CVG', 'EWR', 'DFW']\n",
      "['JAX', 'JFK', 'CLT', 'LGA', 'IAH', 'EWR', 'DFW']\n",
      "['JAX', 'JFK', 'PBI', 'LGA', 'ORD', 'EWR', 'DFW']\n",
      "['JAX', 'JFK', 'PBI', 'LGA', 'IAD', 'EWR', 'DFW']\n",
      "['JAX', 'JFK', 'PBI', 'LGA', 'MIA', 'EWR', 'DFW']\n",
      "['JAX', 'JFK', 'PBI', 'LGA', 'RDU', 'EWR', 'DFW']\n",
      "['JAX', 'JFK', 'PBI', 'LGA', 'TPA', 'EWR', 'DFW']\n",
      "['JAX', 'JFK', 'PBI', 'LGA', 'MSP', 'EWR', 'DFW']\n",
      "['JAX', 'JFK', 'PBI', 'LGA', 'MCO', 'EWR', 'DFW']\n",
      "['JAX', 'JFK', 'PBI', 'LGA', 'CVG', 'EWR', 'DFW']\n",
      "['JAX', 'JFK', 'PBI', 'LGA', 'IAH', 'EWR', 'DFW']\n",
      "['JAX', 'JFK', 'PBI', 'EWR', 'DFW']\n",
      "['JAX', 'JFK', 'IAD', 'LGA', 'ORD', 'EWR', 'DFW']\n",
      "['JAX', 'JFK', 'IAD', 'LGA', 'PBI', 'EWR', 'DFW']\n",
      "['JAX', 'JFK', 'IAD', 'LGA', 'MIA', 'EWR', 'DFW']\n",
      "['JAX', 'JFK', 'IAD', 'LGA', 'RDU', 'EWR', 'DFW']\n",
      "['JAX', 'JFK', 'IAD', 'LGA', 'TPA', 'EWR', 'DFW']\n",
      "['JAX', 'JFK', 'IAD', 'LGA', 'MSP', 'EWR', 'DFW']\n",
      "['JAX', 'JFK', 'IAD', 'LGA', 'MCO', 'EWR', 'DFW']\n",
      "['JAX', 'JFK', 'IAD', 'LGA', 'CVG', 'EWR', 'DFW']\n",
      "['JAX', 'JFK', 'IAD', 'LGA', 'IAH', 'EWR', 'DFW']\n",
      "['JAX', 'JFK', 'IAD', 'EWR', 'DFW']\n",
      "['JAX', 'JFK', 'BOS', 'EWR', 'DFW']\n"
     ]
    }
   ],
   "source": [
    "# Let's find all possible paths available\n",
    "for path in nx.all_simple_paths(Net, source='JAX', target='DFW'):\n",
    " print(path)\n"
   ]
  },
  {
   "cell_type": "code",
   "execution_count": 142,
   "metadata": {},
   "outputs": [
    {
     "data": {
      "text/plain": [
       "['JAX', 'JFK', 'SEA', 'EWR', 'DFW']"
      ]
     },
     "execution_count": 142,
     "metadata": {},
     "output_type": "execute_result"
    }
   ],
   "source": [
    "# Let's  find the dijkstra path from JAX to DFW\n",
    "dijpath = nx.dijkstra_path(Net, source='JAX', target='DFW')\n",
    "dijpath\n"
   ]
  },
  {
   "cell_type": "code",
   "execution_count": 143,
   "metadata": {},
   "outputs": [
    {
     "data": {
      "text/plain": [
       "['JAX', 'JFK', 'BOS', 'EWR', 'DFW']"
      ]
     },
     "execution_count": 143,
     "metadata": {},
     "output_type": "execute_result"
    }
   ],
   "source": [
    "# Let's find the dijkstra path weighted by airtime from JAX to DFW (approximation)\n",
    "shortpath = nx.dijkstra_path(Net, source='JAX', target='DFW', weight='air_time')\n",
    "shortpath"
   ]
  },
  {
   "cell_type": "code",
   "execution_count": 144,
   "metadata": {},
   "outputs": [
    {
     "data": {
      "text/plain": [
       "['JAX', 'JFK', 'BOS', 'EWR', 'DFW']"
      ]
     },
     "execution_count": 144,
     "metadata": {},
     "output_type": "execute_result"
    }
   ],
   "source": [
    "# Let's find the dijkstra path weighted by distance from JAX to DFW\n",
    "shortpath = nx.dijkstra_path(Net, source='JAX', target='DFW', weight='distance')\n",
    "shortpath"
   ]
  }
 ],
 "metadata": {
  "kernelspec": {
   "display_name": "Python 3",
   "language": "python",
   "name": "python3"
  },
  "language_info": {
   "codemirror_mode": {
    "name": "ipython",
    "version": 3
   },
   "file_extension": ".py",
   "mimetype": "text/x-python",
   "name": "python",
   "nbconvert_exporter": "python",
   "pygments_lexer": "ipython3",
   "version": "3.7.6"
  }
 },
 "nbformat": 4,
 "nbformat_minor": 4
}
